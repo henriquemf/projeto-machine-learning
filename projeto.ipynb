{
 "cells": [
  {
   "cell_type": "markdown",
   "metadata": {},
   "source": [
    "# <b>Introdução</b>\n",
    "***"
   ]
  },
  {
   "cell_type": "markdown",
   "metadata": {
    "id": "t1OUpKV_-Cl1"
   },
   "source": [
    "## Quem Somos?\n",
    "\n",
    "Nosso grupo é composto por 3 integrantes:\n",
    "\n",
    "<table style='align:center'>\n",
    "  <tr>\n",
    "    <td align=\"center\"><a href=\"https://github.com/DaviReisVieira\"><img style=\"border-radius: 50%;\" src=\"https://github.com/DaviReisVieira.png\" width=\"100px;\" alt=\"\"/><br /><sub><b>Davi Reis Vieira</b></sub></a><br /><a href=\"https://github.com/DaviReisVieira\" title=\"Davi Reis Vieira\">O Cara -1</a></td>\n",
    "    <td align=\"center\"><a href=\"https://github.com/fran-janela\"><img style=\"border-radius: 50%;\" src=\"https://github.com/fran-janela.png\" width=\"100px;\" alt=\"\"/><br /><sub><b>Francisco Janela</b></sub></a><br /><a href=\"https://github.com/fran-janela\" title=\"Francisco Janela\">O cara 0</a></td>\n",
    "    <td align=\"center\"><a href=\"https://github.com/henriquemf\"><img style=\"border-radius: 50%;\" src=\"https://github.com/henriquemf.png\" width=\"100px;\" alt=\"\"/><br /><sub><b>Henrique Frezzatti</b></sub></a><br /><a href=\"https://github.com/henriquemf\" title=\"Henrique Frezzatti\">O cara +1</a></td>\n",
    "  </tr>\n",
    "</table>"
   ]
  },
  {
   "cell_type": "markdown",
   "metadata": {},
   "source": [
    "# <b>Bibliotecas Utilizadas</b>\n",
    "***"
   ]
  },
  {
   "cell_type": "code",
   "execution_count": 1,
   "metadata": {},
   "outputs": [],
   "source": [
    "%matplotlib inline\n",
    "from pprint import pprint\n",
    "\n",
    "import numpy as np\n",
    "import pandas as pd\n",
    "\n",
    "import matplotlib.pyplot as plt\n",
    "import seaborn as sns"
   ]
  },
  {
   "cell_type": "markdown",
   "metadata": {
    "id": "LfHqdAVn_psZ"
   },
   "source": [
    "# <b>Carregando os Dados</b>\n",
    "***"
   ]
  },
  {
   "cell_type": "markdown",
   "metadata": {},
   "source": [
    "O dataset a ser utilizado é o Spaceship Titanic. Ele possui um conjunto de treino e um conjunto de teste já previamente separados pelo próprio autor da base. Essa base se trata de um dataset fictício, criado com o intuito de simular o problema de Machine Learning original do Titanic. Abaixo se encontra o link para o dataset:\n",
    "\n",
    "<a href=\"https://www.kaggle.com/competitions/spaceship-titanic\">Link para Download do Dataset e Dados Completos</a> \n",
    "\n",
    "Tendo isso em vista, o propósito inicial do projeto se trata de construir um modelo de _Machine Learning_ para prever se o passageiro a bordo da nave espacial foi teletransportado para uma outra dimensão ou não. Ou seja, essa variável é a nossa _feature_ a qual será trabalhada visando obtê-la no final do processo de treinamento do modelo. "
   ]
  },
  {
   "cell_type": "code",
   "execution_count": 2,
   "metadata": {
    "id": "YzxSacm6-Cl2"
   },
   "outputs": [],
   "source": [
    "data = pd.read_csv(\"data.csv\")\n",
    "validation = pd.read_csv(\"validation.csv\")"
   ]
  },
  {
   "cell_type": "markdown",
   "metadata": {},
   "source": [
    "Abaixo, rodamos os comandos a seguir com o intuito de saber com quantos dados estaremos trabalhando durante o projeto."
   ]
  },
  {
   "cell_type": "code",
   "execution_count": 3,
   "metadata": {},
   "outputs": [
    {
     "name": "stdout",
     "output_type": "stream",
     "text": [
      "Dataset de Dados | Total de Linhas: 8693. Total de Colunas: 14\n",
      "Dataset de Validação | Total de Linhas: 4277. Total de Colunas: 13\n"
     ]
    }
   ],
   "source": [
    "print('Dataset de Dados | Total de Linhas: {}. Total de Colunas: {}' .format(data.shape[0],data.shape[1]))\n",
    "print('Dataset de Validação | Total de Linhas: {}. Total de Colunas: {}' .format(validation.shape[0],validation.shape[1]))"
   ]
  },
  {
   "cell_type": "markdown",
   "metadata": {
    "id": "d-cGY9iq_3q6"
   },
   "source": [
    "# <b>Analisando Variáveis</b>\n",
    "***"
   ]
  },
  {
   "cell_type": "markdown",
   "metadata": {},
   "source": [
    "Com o arquivo guardado na forma de um _dataframe_, agora é possível lê-lo com facilidade para os usos necessários. Abaixo está sendo mostrando os primeiros 10 itens de ambos os arquivos .csv (os dados e o validation)."
   ]
  },
  {
   "cell_type": "code",
   "execution_count": 4,
   "metadata": {
    "colab": {
     "base_uri": "https://localhost:8080/",
     "height": 363
    },
    "executionInfo": {
     "elapsed": 227,
     "status": "ok",
     "timestamp": 1668007398772,
     "user": {
      "displayName": "Francisco Janela",
      "userId": "09488974505845489559"
     },
     "user_tz": 180
    },
    "id": "iAbGGg0c-Cl3",
    "outputId": "3e45ec8c-ddb3-4afa-d6d8-6a2a8c90c795"
   },
   "outputs": [
    {
     "data": {
      "text/html": [
       "<div>\n",
       "<style scoped>\n",
       "    .dataframe tbody tr th:only-of-type {\n",
       "        vertical-align: middle;\n",
       "    }\n",
       "\n",
       "    .dataframe tbody tr th {\n",
       "        vertical-align: top;\n",
       "    }\n",
       "\n",
       "    .dataframe thead th {\n",
       "        text-align: right;\n",
       "    }\n",
       "</style>\n",
       "<table border=\"1\" class=\"dataframe\">\n",
       "  <thead>\n",
       "    <tr style=\"text-align: right;\">\n",
       "      <th></th>\n",
       "      <th>PassengerId</th>\n",
       "      <th>HomePlanet</th>\n",
       "      <th>CryoSleep</th>\n",
       "      <th>Cabin</th>\n",
       "      <th>Destination</th>\n",
       "      <th>Age</th>\n",
       "      <th>VIP</th>\n",
       "      <th>RoomService</th>\n",
       "      <th>FoodCourt</th>\n",
       "      <th>ShoppingMall</th>\n",
       "      <th>Spa</th>\n",
       "      <th>VRDeck</th>\n",
       "      <th>Name</th>\n",
       "      <th>Transported</th>\n",
       "    </tr>\n",
       "  </thead>\n",
       "  <tbody>\n",
       "    <tr>\n",
       "      <th>0</th>\n",
       "      <td>0001_01</td>\n",
       "      <td>Europa</td>\n",
       "      <td>False</td>\n",
       "      <td>B/0/P</td>\n",
       "      <td>TRAPPIST-1e</td>\n",
       "      <td>39.0</td>\n",
       "      <td>False</td>\n",
       "      <td>0.0</td>\n",
       "      <td>0.0</td>\n",
       "      <td>0.0</td>\n",
       "      <td>0.0</td>\n",
       "      <td>0.0</td>\n",
       "      <td>Maham Ofracculy</td>\n",
       "      <td>False</td>\n",
       "    </tr>\n",
       "    <tr>\n",
       "      <th>1</th>\n",
       "      <td>0002_01</td>\n",
       "      <td>Earth</td>\n",
       "      <td>False</td>\n",
       "      <td>F/0/S</td>\n",
       "      <td>TRAPPIST-1e</td>\n",
       "      <td>24.0</td>\n",
       "      <td>False</td>\n",
       "      <td>109.0</td>\n",
       "      <td>9.0</td>\n",
       "      <td>25.0</td>\n",
       "      <td>549.0</td>\n",
       "      <td>44.0</td>\n",
       "      <td>Juanna Vines</td>\n",
       "      <td>True</td>\n",
       "    </tr>\n",
       "    <tr>\n",
       "      <th>2</th>\n",
       "      <td>0003_01</td>\n",
       "      <td>Europa</td>\n",
       "      <td>False</td>\n",
       "      <td>A/0/S</td>\n",
       "      <td>TRAPPIST-1e</td>\n",
       "      <td>58.0</td>\n",
       "      <td>True</td>\n",
       "      <td>43.0</td>\n",
       "      <td>3576.0</td>\n",
       "      <td>0.0</td>\n",
       "      <td>6715.0</td>\n",
       "      <td>49.0</td>\n",
       "      <td>Altark Susent</td>\n",
       "      <td>False</td>\n",
       "    </tr>\n",
       "    <tr>\n",
       "      <th>3</th>\n",
       "      <td>0003_02</td>\n",
       "      <td>Europa</td>\n",
       "      <td>False</td>\n",
       "      <td>A/0/S</td>\n",
       "      <td>TRAPPIST-1e</td>\n",
       "      <td>33.0</td>\n",
       "      <td>False</td>\n",
       "      <td>0.0</td>\n",
       "      <td>1283.0</td>\n",
       "      <td>371.0</td>\n",
       "      <td>3329.0</td>\n",
       "      <td>193.0</td>\n",
       "      <td>Solam Susent</td>\n",
       "      <td>False</td>\n",
       "    </tr>\n",
       "    <tr>\n",
       "      <th>4</th>\n",
       "      <td>0004_01</td>\n",
       "      <td>Earth</td>\n",
       "      <td>False</td>\n",
       "      <td>F/1/S</td>\n",
       "      <td>TRAPPIST-1e</td>\n",
       "      <td>16.0</td>\n",
       "      <td>False</td>\n",
       "      <td>303.0</td>\n",
       "      <td>70.0</td>\n",
       "      <td>151.0</td>\n",
       "      <td>565.0</td>\n",
       "      <td>2.0</td>\n",
       "      <td>Willy Santantines</td>\n",
       "      <td>True</td>\n",
       "    </tr>\n",
       "    <tr>\n",
       "      <th>5</th>\n",
       "      <td>0005_01</td>\n",
       "      <td>Earth</td>\n",
       "      <td>False</td>\n",
       "      <td>F/0/P</td>\n",
       "      <td>PSO J318.5-22</td>\n",
       "      <td>44.0</td>\n",
       "      <td>False</td>\n",
       "      <td>0.0</td>\n",
       "      <td>483.0</td>\n",
       "      <td>0.0</td>\n",
       "      <td>291.0</td>\n",
       "      <td>0.0</td>\n",
       "      <td>Sandie Hinetthews</td>\n",
       "      <td>True</td>\n",
       "    </tr>\n",
       "    <tr>\n",
       "      <th>6</th>\n",
       "      <td>0006_01</td>\n",
       "      <td>Earth</td>\n",
       "      <td>False</td>\n",
       "      <td>F/2/S</td>\n",
       "      <td>TRAPPIST-1e</td>\n",
       "      <td>26.0</td>\n",
       "      <td>False</td>\n",
       "      <td>42.0</td>\n",
       "      <td>1539.0</td>\n",
       "      <td>3.0</td>\n",
       "      <td>0.0</td>\n",
       "      <td>0.0</td>\n",
       "      <td>Billex Jacostaffey</td>\n",
       "      <td>True</td>\n",
       "    </tr>\n",
       "    <tr>\n",
       "      <th>7</th>\n",
       "      <td>0006_02</td>\n",
       "      <td>Earth</td>\n",
       "      <td>True</td>\n",
       "      <td>G/0/S</td>\n",
       "      <td>TRAPPIST-1e</td>\n",
       "      <td>28.0</td>\n",
       "      <td>False</td>\n",
       "      <td>0.0</td>\n",
       "      <td>0.0</td>\n",
       "      <td>0.0</td>\n",
       "      <td>0.0</td>\n",
       "      <td>NaN</td>\n",
       "      <td>Candra Jacostaffey</td>\n",
       "      <td>True</td>\n",
       "    </tr>\n",
       "    <tr>\n",
       "      <th>8</th>\n",
       "      <td>0007_01</td>\n",
       "      <td>Earth</td>\n",
       "      <td>False</td>\n",
       "      <td>F/3/S</td>\n",
       "      <td>TRAPPIST-1e</td>\n",
       "      <td>35.0</td>\n",
       "      <td>False</td>\n",
       "      <td>0.0</td>\n",
       "      <td>785.0</td>\n",
       "      <td>17.0</td>\n",
       "      <td>216.0</td>\n",
       "      <td>0.0</td>\n",
       "      <td>Andona Beston</td>\n",
       "      <td>True</td>\n",
       "    </tr>\n",
       "    <tr>\n",
       "      <th>9</th>\n",
       "      <td>0008_01</td>\n",
       "      <td>Europa</td>\n",
       "      <td>True</td>\n",
       "      <td>B/1/P</td>\n",
       "      <td>55 Cancri e</td>\n",
       "      <td>14.0</td>\n",
       "      <td>False</td>\n",
       "      <td>0.0</td>\n",
       "      <td>0.0</td>\n",
       "      <td>0.0</td>\n",
       "      <td>0.0</td>\n",
       "      <td>0.0</td>\n",
       "      <td>Erraiam Flatic</td>\n",
       "      <td>True</td>\n",
       "    </tr>\n",
       "  </tbody>\n",
       "</table>\n",
       "</div>"
      ],
      "text/plain": [
       "  PassengerId HomePlanet CryoSleep  Cabin    Destination   Age    VIP  \\\n",
       "0     0001_01     Europa     False  B/0/P    TRAPPIST-1e  39.0  False   \n",
       "1     0002_01      Earth     False  F/0/S    TRAPPIST-1e  24.0  False   \n",
       "2     0003_01     Europa     False  A/0/S    TRAPPIST-1e  58.0   True   \n",
       "3     0003_02     Europa     False  A/0/S    TRAPPIST-1e  33.0  False   \n",
       "4     0004_01      Earth     False  F/1/S    TRAPPIST-1e  16.0  False   \n",
       "5     0005_01      Earth     False  F/0/P  PSO J318.5-22  44.0  False   \n",
       "6     0006_01      Earth     False  F/2/S    TRAPPIST-1e  26.0  False   \n",
       "7     0006_02      Earth      True  G/0/S    TRAPPIST-1e  28.0  False   \n",
       "8     0007_01      Earth     False  F/3/S    TRAPPIST-1e  35.0  False   \n",
       "9     0008_01     Europa      True  B/1/P    55 Cancri e  14.0  False   \n",
       "\n",
       "   RoomService  FoodCourt  ShoppingMall     Spa  VRDeck                Name  \\\n",
       "0          0.0        0.0           0.0     0.0     0.0     Maham Ofracculy   \n",
       "1        109.0        9.0          25.0   549.0    44.0        Juanna Vines   \n",
       "2         43.0     3576.0           0.0  6715.0    49.0       Altark Susent   \n",
       "3          0.0     1283.0         371.0  3329.0   193.0        Solam Susent   \n",
       "4        303.0       70.0         151.0   565.0     2.0   Willy Santantines   \n",
       "5          0.0      483.0           0.0   291.0     0.0   Sandie Hinetthews   \n",
       "6         42.0     1539.0           3.0     0.0     0.0  Billex Jacostaffey   \n",
       "7          0.0        0.0           0.0     0.0     NaN  Candra Jacostaffey   \n",
       "8          0.0      785.0          17.0   216.0     0.0       Andona Beston   \n",
       "9          0.0        0.0           0.0     0.0     0.0      Erraiam Flatic   \n",
       "\n",
       "   Transported  \n",
       "0        False  \n",
       "1         True  \n",
       "2        False  \n",
       "3        False  \n",
       "4         True  \n",
       "5         True  \n",
       "6         True  \n",
       "7         True  \n",
       "8         True  \n",
       "9         True  "
      ]
     },
     "execution_count": 4,
     "metadata": {},
     "output_type": "execute_result"
    }
   ],
   "source": [
    "data.head(10)"
   ]
  },
  {
   "cell_type": "code",
   "execution_count": 5,
   "metadata": {
    "colab": {
     "base_uri": "https://localhost:8080/",
     "height": 363
    },
    "executionInfo": {
     "elapsed": 391,
     "status": "ok",
     "timestamp": 1668007402397,
     "user": {
      "displayName": "Francisco Janela",
      "userId": "09488974505845489559"
     },
     "user_tz": 180
    },
    "id": "KYIfgSHX-Cl3",
    "outputId": "b1bbd941-f4db-42d1-f142-bbb980051aac"
   },
   "outputs": [
    {
     "data": {
      "text/html": [
       "<div>\n",
       "<style scoped>\n",
       "    .dataframe tbody tr th:only-of-type {\n",
       "        vertical-align: middle;\n",
       "    }\n",
       "\n",
       "    .dataframe tbody tr th {\n",
       "        vertical-align: top;\n",
       "    }\n",
       "\n",
       "    .dataframe thead th {\n",
       "        text-align: right;\n",
       "    }\n",
       "</style>\n",
       "<table border=\"1\" class=\"dataframe\">\n",
       "  <thead>\n",
       "    <tr style=\"text-align: right;\">\n",
       "      <th></th>\n",
       "      <th>PassengerId</th>\n",
       "      <th>HomePlanet</th>\n",
       "      <th>CryoSleep</th>\n",
       "      <th>Cabin</th>\n",
       "      <th>Destination</th>\n",
       "      <th>Age</th>\n",
       "      <th>VIP</th>\n",
       "      <th>RoomService</th>\n",
       "      <th>FoodCourt</th>\n",
       "      <th>ShoppingMall</th>\n",
       "      <th>Spa</th>\n",
       "      <th>VRDeck</th>\n",
       "      <th>Name</th>\n",
       "    </tr>\n",
       "  </thead>\n",
       "  <tbody>\n",
       "    <tr>\n",
       "      <th>0</th>\n",
       "      <td>0013_01</td>\n",
       "      <td>Earth</td>\n",
       "      <td>True</td>\n",
       "      <td>G/3/S</td>\n",
       "      <td>TRAPPIST-1e</td>\n",
       "      <td>27.0</td>\n",
       "      <td>False</td>\n",
       "      <td>0.0</td>\n",
       "      <td>0.0</td>\n",
       "      <td>0.0</td>\n",
       "      <td>0.0</td>\n",
       "      <td>0.0</td>\n",
       "      <td>Nelly Carsoning</td>\n",
       "    </tr>\n",
       "    <tr>\n",
       "      <th>1</th>\n",
       "      <td>0018_01</td>\n",
       "      <td>Earth</td>\n",
       "      <td>False</td>\n",
       "      <td>F/4/S</td>\n",
       "      <td>TRAPPIST-1e</td>\n",
       "      <td>19.0</td>\n",
       "      <td>False</td>\n",
       "      <td>0.0</td>\n",
       "      <td>9.0</td>\n",
       "      <td>0.0</td>\n",
       "      <td>2823.0</td>\n",
       "      <td>0.0</td>\n",
       "      <td>Lerome Peckers</td>\n",
       "    </tr>\n",
       "    <tr>\n",
       "      <th>2</th>\n",
       "      <td>0019_01</td>\n",
       "      <td>Europa</td>\n",
       "      <td>True</td>\n",
       "      <td>C/0/S</td>\n",
       "      <td>55 Cancri e</td>\n",
       "      <td>31.0</td>\n",
       "      <td>False</td>\n",
       "      <td>0.0</td>\n",
       "      <td>0.0</td>\n",
       "      <td>0.0</td>\n",
       "      <td>0.0</td>\n",
       "      <td>0.0</td>\n",
       "      <td>Sabih Unhearfus</td>\n",
       "    </tr>\n",
       "    <tr>\n",
       "      <th>3</th>\n",
       "      <td>0021_01</td>\n",
       "      <td>Europa</td>\n",
       "      <td>False</td>\n",
       "      <td>C/1/S</td>\n",
       "      <td>TRAPPIST-1e</td>\n",
       "      <td>38.0</td>\n",
       "      <td>False</td>\n",
       "      <td>0.0</td>\n",
       "      <td>6652.0</td>\n",
       "      <td>0.0</td>\n",
       "      <td>181.0</td>\n",
       "      <td>585.0</td>\n",
       "      <td>Meratz Caltilter</td>\n",
       "    </tr>\n",
       "    <tr>\n",
       "      <th>4</th>\n",
       "      <td>0023_01</td>\n",
       "      <td>Earth</td>\n",
       "      <td>False</td>\n",
       "      <td>F/5/S</td>\n",
       "      <td>TRAPPIST-1e</td>\n",
       "      <td>20.0</td>\n",
       "      <td>False</td>\n",
       "      <td>10.0</td>\n",
       "      <td>0.0</td>\n",
       "      <td>635.0</td>\n",
       "      <td>0.0</td>\n",
       "      <td>0.0</td>\n",
       "      <td>Brence Harperez</td>\n",
       "    </tr>\n",
       "    <tr>\n",
       "      <th>5</th>\n",
       "      <td>0027_01</td>\n",
       "      <td>Earth</td>\n",
       "      <td>False</td>\n",
       "      <td>F/7/P</td>\n",
       "      <td>TRAPPIST-1e</td>\n",
       "      <td>31.0</td>\n",
       "      <td>False</td>\n",
       "      <td>0.0</td>\n",
       "      <td>1615.0</td>\n",
       "      <td>263.0</td>\n",
       "      <td>113.0</td>\n",
       "      <td>60.0</td>\n",
       "      <td>Karlen Ricks</td>\n",
       "    </tr>\n",
       "    <tr>\n",
       "      <th>6</th>\n",
       "      <td>0029_01</td>\n",
       "      <td>Europa</td>\n",
       "      <td>True</td>\n",
       "      <td>B/2/P</td>\n",
       "      <td>55 Cancri e</td>\n",
       "      <td>21.0</td>\n",
       "      <td>False</td>\n",
       "      <td>0.0</td>\n",
       "      <td>NaN</td>\n",
       "      <td>0.0</td>\n",
       "      <td>0.0</td>\n",
       "      <td>0.0</td>\n",
       "      <td>Aldah Ainserfle</td>\n",
       "    </tr>\n",
       "    <tr>\n",
       "      <th>7</th>\n",
       "      <td>0032_01</td>\n",
       "      <td>Europa</td>\n",
       "      <td>True</td>\n",
       "      <td>D/0/S</td>\n",
       "      <td>TRAPPIST-1e</td>\n",
       "      <td>20.0</td>\n",
       "      <td>False</td>\n",
       "      <td>0.0</td>\n",
       "      <td>0.0</td>\n",
       "      <td>0.0</td>\n",
       "      <td>0.0</td>\n",
       "      <td>0.0</td>\n",
       "      <td>Acrabi Pringry</td>\n",
       "    </tr>\n",
       "    <tr>\n",
       "      <th>8</th>\n",
       "      <td>0032_02</td>\n",
       "      <td>Europa</td>\n",
       "      <td>True</td>\n",
       "      <td>D/0/S</td>\n",
       "      <td>55 Cancri e</td>\n",
       "      <td>23.0</td>\n",
       "      <td>False</td>\n",
       "      <td>0.0</td>\n",
       "      <td>0.0</td>\n",
       "      <td>0.0</td>\n",
       "      <td>0.0</td>\n",
       "      <td>0.0</td>\n",
       "      <td>Dhena Pringry</td>\n",
       "    </tr>\n",
       "    <tr>\n",
       "      <th>9</th>\n",
       "      <td>0033_01</td>\n",
       "      <td>Earth</td>\n",
       "      <td>False</td>\n",
       "      <td>F/7/S</td>\n",
       "      <td>55 Cancri e</td>\n",
       "      <td>24.0</td>\n",
       "      <td>False</td>\n",
       "      <td>0.0</td>\n",
       "      <td>639.0</td>\n",
       "      <td>0.0</td>\n",
       "      <td>0.0</td>\n",
       "      <td>0.0</td>\n",
       "      <td>Eliana Delazarson</td>\n",
       "    </tr>\n",
       "  </tbody>\n",
       "</table>\n",
       "</div>"
      ],
      "text/plain": [
       "  PassengerId HomePlanet CryoSleep  Cabin  Destination   Age    VIP  \\\n",
       "0     0013_01      Earth      True  G/3/S  TRAPPIST-1e  27.0  False   \n",
       "1     0018_01      Earth     False  F/4/S  TRAPPIST-1e  19.0  False   \n",
       "2     0019_01     Europa      True  C/0/S  55 Cancri e  31.0  False   \n",
       "3     0021_01     Europa     False  C/1/S  TRAPPIST-1e  38.0  False   \n",
       "4     0023_01      Earth     False  F/5/S  TRAPPIST-1e  20.0  False   \n",
       "5     0027_01      Earth     False  F/7/P  TRAPPIST-1e  31.0  False   \n",
       "6     0029_01     Europa      True  B/2/P  55 Cancri e  21.0  False   \n",
       "7     0032_01     Europa      True  D/0/S  TRAPPIST-1e  20.0  False   \n",
       "8     0032_02     Europa      True  D/0/S  55 Cancri e  23.0  False   \n",
       "9     0033_01      Earth     False  F/7/S  55 Cancri e  24.0  False   \n",
       "\n",
       "   RoomService  FoodCourt  ShoppingMall     Spa  VRDeck               Name  \n",
       "0          0.0        0.0           0.0     0.0     0.0    Nelly Carsoning  \n",
       "1          0.0        9.0           0.0  2823.0     0.0     Lerome Peckers  \n",
       "2          0.0        0.0           0.0     0.0     0.0    Sabih Unhearfus  \n",
       "3          0.0     6652.0           0.0   181.0   585.0   Meratz Caltilter  \n",
       "4         10.0        0.0         635.0     0.0     0.0    Brence Harperez  \n",
       "5          0.0     1615.0         263.0   113.0    60.0       Karlen Ricks  \n",
       "6          0.0        NaN           0.0     0.0     0.0    Aldah Ainserfle  \n",
       "7          0.0        0.0           0.0     0.0     0.0     Acrabi Pringry  \n",
       "8          0.0        0.0           0.0     0.0     0.0      Dhena Pringry  \n",
       "9          0.0      639.0           0.0     0.0     0.0  Eliana Delazarson  "
      ]
     },
     "execution_count": 5,
     "metadata": {},
     "output_type": "execute_result"
    }
   ],
   "source": [
    "validation.head(10)"
   ]
  },
  {
   "cell_type": "code",
   "execution_count": 6,
   "metadata": {
    "colab": {
     "base_uri": "https://localhost:8080/"
    },
    "executionInfo": {
     "elapsed": 227,
     "status": "ok",
     "timestamp": 1668007418307,
     "user": {
      "displayName": "Francisco Janela",
      "userId": "09488974505845489559"
     },
     "user_tz": 180
    },
    "id": "ZdZvT4Me-Cl4",
    "outputId": "7e532681-c267-4456-f4f5-1b553f9154f8"
   },
   "outputs": [
    {
     "name": "stdout",
     "output_type": "stream",
     "text": [
      "<class 'pandas.core.frame.DataFrame'>\n",
      "RangeIndex: 8693 entries, 0 to 8692\n",
      "Data columns (total 14 columns):\n",
      " #   Column        Non-Null Count  Dtype  \n",
      "---  ------        --------------  -----  \n",
      " 0   PassengerId   8693 non-null   object \n",
      " 1   HomePlanet    8492 non-null   object \n",
      " 2   CryoSleep     8476 non-null   object \n",
      " 3   Cabin         8494 non-null   object \n",
      " 4   Destination   8511 non-null   object \n",
      " 5   Age           8514 non-null   float64\n",
      " 6   VIP           8490 non-null   object \n",
      " 7   RoomService   8512 non-null   float64\n",
      " 8   FoodCourt     8510 non-null   float64\n",
      " 9   ShoppingMall  8485 non-null   float64\n",
      " 10  Spa           8510 non-null   float64\n",
      " 11  VRDeck        8505 non-null   float64\n",
      " 12  Name          8493 non-null   object \n",
      " 13  Transported   8693 non-null   bool   \n",
      "dtypes: bool(1), float64(6), object(7)\n",
      "memory usage: 891.5+ KB\n"
     ]
    }
   ],
   "source": [
    "data.info()"
   ]
  },
  {
   "cell_type": "code",
   "execution_count": 7,
   "metadata": {
    "colab": {
     "base_uri": "https://localhost:8080/"
    },
    "executionInfo": {
     "elapsed": 3,
     "status": "ok",
     "timestamp": 1668007419077,
     "user": {
      "displayName": "Francisco Janela",
      "userId": "09488974505845489559"
     },
     "user_tz": 180
    },
    "id": "2gLdpjpL-Cl4",
    "outputId": "2473ba36-9983-4d76-e276-d9966d068c75"
   },
   "outputs": [
    {
     "name": "stdout",
     "output_type": "stream",
     "text": [
      "<class 'pandas.core.frame.DataFrame'>\n",
      "RangeIndex: 4277 entries, 0 to 4276\n",
      "Data columns (total 13 columns):\n",
      " #   Column        Non-Null Count  Dtype  \n",
      "---  ------        --------------  -----  \n",
      " 0   PassengerId   4277 non-null   object \n",
      " 1   HomePlanet    4190 non-null   object \n",
      " 2   CryoSleep     4184 non-null   object \n",
      " 3   Cabin         4177 non-null   object \n",
      " 4   Destination   4185 non-null   object \n",
      " 5   Age           4186 non-null   float64\n",
      " 6   VIP           4184 non-null   object \n",
      " 7   RoomService   4195 non-null   float64\n",
      " 8   FoodCourt     4171 non-null   float64\n",
      " 9   ShoppingMall  4179 non-null   float64\n",
      " 10  Spa           4176 non-null   float64\n",
      " 11  VRDeck        4197 non-null   float64\n",
      " 12  Name          4183 non-null   object \n",
      "dtypes: float64(6), object(7)\n",
      "memory usage: 434.5+ KB\n"
     ]
    }
   ],
   "source": [
    "validation.info()"
   ]
  },
  {
   "cell_type": "markdown",
   "metadata": {},
   "source": [
    "### Conclusão da análise de variáveis\n",
    "\n",
    "Após analisar com o .info(), é possível perceber que existem alguns diversos valores faltantes para algumas diversas variáveis, sendo estas tanto categóricas como numéricas, o que será necessário a implementação de um _imputer_ adequado e, para isso, será realizada uma análise de diferentes modelos de _imputer_ para, no fim, decidir qual usar para a melhor acurácia possível para podermos treinar o modelo da maneira correta."
   ]
  },
  {
   "cell_type": "markdown",
   "metadata": {},
   "source": [
    "### Variáveis e significados\n",
    "\n",
    "As variáveis presentes no _dataset_ são as seguintes:\n",
    "\n",
    "- <span style=\"color: blue;\">PassangerId (numérico)</span> = ID do passageiro, um valor único que identifica o passageiro em questão;\n",
    "- <span style=\"color: blue;\"> HomePlanet (categórico)</span> = Planeta do qual o passageiro em questão se origina ou onde reside;\n",
    "- <span style=\"color: blue;\"> CryoSleep (categórico)</span> = Indica se o passageiro está ou não em um sono criogênico, ou seja, se está isolado em uma cabine em um compartimento selado em sono profundo;\n",
    "- <span style=\"color: blue;\"> Cabin (categórico) </span> = Indica o número e o local da cabine onde o passageiro está acomodado;\n",
    "- <span style=\"color: blue;\"> Destination (categórico) </span> = Indica o planeta de destino do passageiro;\n",
    "- <span style=\"color: blue;\"> Age (numérico) </span> = Idade do passageiro;\n",
    "- <span style=\"color: blue;\"> VIP (categórico) </span> = Indica se o passageiro tem ou não acesso a serviços VIP durante a viagem;\n",
    "- <span style=\"color: blue;\"> RoomService, FoodCourt, ShoppingMall, Spa, VRDeck (todos numéricos) </span> = Indicam o tanto que foi gasto pelo passageiro em cada um desses serviços;\n",
    "- <span style=\"color: blue;\"> Name (categórico) </span> = Nome e sobrenome do passageiro;"
   ]
  },
  {
   "cell_type": "markdown",
   "metadata": {
    "id": "OjAEq6QZAH_W"
   },
   "source": [
    "# <b>Analisando as Variáveis Categóricas</b>\n",
    "***"
   ]
  },
  {
   "cell_type": "markdown",
   "metadata": {},
   "source": [
    "Abaixo, será realizada uma análise de cada uma das variáveis categóricas, visando saber quantos valores de cada opção existente estão presentes em cada uma delas, além de remover variáveis que não influenciam no resultado direto da *_target_*, como Nome e ID. Além disso, também será analisado a correlação de cada uma das variáveis categóricas com a nossa variável _*target*_."
   ]
  },
  {
   "cell_type": "markdown",
   "metadata": {},
   "source": [
    "##### <b>Home Planet</b>"
   ]
  },
  {
   "cell_type": "code",
   "execution_count": 8,
   "metadata": {
    "colab": {
     "base_uri": "https://localhost:8080/"
    },
    "executionInfo": {
     "elapsed": 216,
     "status": "ok",
     "timestamp": 1668007422625,
     "user": {
      "displayName": "Francisco Janela",
      "userId": "09488974505845489559"
     },
     "user_tz": 180
    },
    "id": "9d3WK8YR-Cl4",
    "outputId": "ac72ba5e-78f1-4fdd-ecb6-cddb9c477bc8"
   },
   "outputs": [
    {
     "data": {
      "text/plain": [
       "Earth     4602\n",
       "Europa    2131\n",
       "Mars      1759\n",
       "Name: HomePlanet, dtype: int64"
      ]
     },
     "execution_count": 8,
     "metadata": {},
     "output_type": "execute_result"
    }
   ],
   "source": [
    "data[\"HomePlanet\"].value_counts()"
   ]
  },
  {
   "cell_type": "markdown",
   "metadata": {},
   "source": [
    "##### <b>Cryo Sleep</b>"
   ]
  },
  {
   "cell_type": "code",
   "execution_count": 9,
   "metadata": {
    "colab": {
     "base_uri": "https://localhost:8080/"
    },
    "executionInfo": {
     "elapsed": 3,
     "status": "ok",
     "timestamp": 1668007423691,
     "user": {
      "displayName": "Francisco Janela",
      "userId": "09488974505845489559"
     },
     "user_tz": 180
    },
    "id": "WsT9EjJ4-Cl4",
    "outputId": "29f1b6cc-490d-468e-9390-e23a7cb00e84"
   },
   "outputs": [
    {
     "data": {
      "text/plain": [
       "False    5439\n",
       "True     3037\n",
       "Name: CryoSleep, dtype: int64"
      ]
     },
     "execution_count": 9,
     "metadata": {},
     "output_type": "execute_result"
    }
   ],
   "source": [
    "data[\"CryoSleep\"].value_counts()"
   ]
  },
  {
   "cell_type": "markdown",
   "metadata": {},
   "source": [
    "##### <b>Destination</b>"
   ]
  },
  {
   "cell_type": "code",
   "execution_count": 10,
   "metadata": {
    "colab": {
     "base_uri": "https://localhost:8080/"
    },
    "executionInfo": {
     "elapsed": 2,
     "status": "ok",
     "timestamp": 1668007424711,
     "user": {
      "displayName": "Francisco Janela",
      "userId": "09488974505845489559"
     },
     "user_tz": 180
    },
    "id": "kf8ZYJ7W-Cl5",
    "outputId": "5009ae22-d475-4a5b-d11c-0e78a97e7478"
   },
   "outputs": [
    {
     "data": {
      "text/plain": [
       "TRAPPIST-1e      5915\n",
       "55 Cancri e      1800\n",
       "PSO J318.5-22     796\n",
       "Name: Destination, dtype: int64"
      ]
     },
     "execution_count": 10,
     "metadata": {},
     "output_type": "execute_result"
    }
   ],
   "source": [
    "data[\"Destination\"].value_counts()"
   ]
  },
  {
   "cell_type": "markdown",
   "metadata": {},
   "source": [
    "##### <b>VIP</b>"
   ]
  },
  {
   "cell_type": "code",
   "execution_count": 11,
   "metadata": {
    "colab": {
     "base_uri": "https://localhost:8080/"
    },
    "executionInfo": {
     "elapsed": 3,
     "status": "ok",
     "timestamp": 1668007425910,
     "user": {
      "displayName": "Francisco Janela",
      "userId": "09488974505845489559"
     },
     "user_tz": 180
    },
    "id": "c583Zqfl-Cl5",
    "outputId": "c78fa930-d2e4-4923-c840-0f5f7a5fcdf8"
   },
   "outputs": [
    {
     "data": {
      "text/plain": [
       "False    8291\n",
       "True      199\n",
       "Name: VIP, dtype: int64"
      ]
     },
     "execution_count": 11,
     "metadata": {},
     "output_type": "execute_result"
    }
   ],
   "source": [
    "data[\"VIP\"].value_counts()"
   ]
  },
  {
   "cell_type": "markdown",
   "metadata": {},
   "source": [
    "Removendo variáveis indiferentes para o resultado final"
   ]
  },
  {
   "cell_type": "code",
   "execution_count": 12,
   "metadata": {
    "colab": {
     "base_uri": "https://localhost:8080/",
     "height": 424
    },
    "executionInfo": {
     "elapsed": 5,
     "status": "ok",
     "timestamp": 1668007429355,
     "user": {
      "displayName": "Francisco Janela",
      "userId": "09488974505845489559"
     },
     "user_tz": 180
    },
    "id": "iPNFIXCl-Cl5",
    "outputId": "8f4d84e2-f7f2-4004-f522-9b383c763fa7"
   },
   "outputs": [
    {
     "data": {
      "text/html": [
       "<div>\n",
       "<style scoped>\n",
       "    .dataframe tbody tr th:only-of-type {\n",
       "        vertical-align: middle;\n",
       "    }\n",
       "\n",
       "    .dataframe tbody tr th {\n",
       "        vertical-align: top;\n",
       "    }\n",
       "\n",
       "    .dataframe thead th {\n",
       "        text-align: right;\n",
       "    }\n",
       "</style>\n",
       "<table border=\"1\" class=\"dataframe\">\n",
       "  <thead>\n",
       "    <tr style=\"text-align: right;\">\n",
       "      <th></th>\n",
       "      <th>HomePlanet</th>\n",
       "      <th>CryoSleep</th>\n",
       "      <th>Cabin</th>\n",
       "      <th>Destination</th>\n",
       "      <th>Age</th>\n",
       "      <th>VIP</th>\n",
       "      <th>RoomService</th>\n",
       "      <th>FoodCourt</th>\n",
       "      <th>ShoppingMall</th>\n",
       "      <th>Spa</th>\n",
       "      <th>VRDeck</th>\n",
       "      <th>Transported</th>\n",
       "    </tr>\n",
       "  </thead>\n",
       "  <tbody>\n",
       "    <tr>\n",
       "      <th>0</th>\n",
       "      <td>Europa</td>\n",
       "      <td>False</td>\n",
       "      <td>B/0/P</td>\n",
       "      <td>TRAPPIST-1e</td>\n",
       "      <td>39.0</td>\n",
       "      <td>False</td>\n",
       "      <td>0.0</td>\n",
       "      <td>0.0</td>\n",
       "      <td>0.0</td>\n",
       "      <td>0.0</td>\n",
       "      <td>0.0</td>\n",
       "      <td>False</td>\n",
       "    </tr>\n",
       "    <tr>\n",
       "      <th>1</th>\n",
       "      <td>Earth</td>\n",
       "      <td>False</td>\n",
       "      <td>F/0/S</td>\n",
       "      <td>TRAPPIST-1e</td>\n",
       "      <td>24.0</td>\n",
       "      <td>False</td>\n",
       "      <td>109.0</td>\n",
       "      <td>9.0</td>\n",
       "      <td>25.0</td>\n",
       "      <td>549.0</td>\n",
       "      <td>44.0</td>\n",
       "      <td>True</td>\n",
       "    </tr>\n",
       "    <tr>\n",
       "      <th>2</th>\n",
       "      <td>Europa</td>\n",
       "      <td>False</td>\n",
       "      <td>A/0/S</td>\n",
       "      <td>TRAPPIST-1e</td>\n",
       "      <td>58.0</td>\n",
       "      <td>True</td>\n",
       "      <td>43.0</td>\n",
       "      <td>3576.0</td>\n",
       "      <td>0.0</td>\n",
       "      <td>6715.0</td>\n",
       "      <td>49.0</td>\n",
       "      <td>False</td>\n",
       "    </tr>\n",
       "    <tr>\n",
       "      <th>3</th>\n",
       "      <td>Europa</td>\n",
       "      <td>False</td>\n",
       "      <td>A/0/S</td>\n",
       "      <td>TRAPPIST-1e</td>\n",
       "      <td>33.0</td>\n",
       "      <td>False</td>\n",
       "      <td>0.0</td>\n",
       "      <td>1283.0</td>\n",
       "      <td>371.0</td>\n",
       "      <td>3329.0</td>\n",
       "      <td>193.0</td>\n",
       "      <td>False</td>\n",
       "    </tr>\n",
       "    <tr>\n",
       "      <th>4</th>\n",
       "      <td>Earth</td>\n",
       "      <td>False</td>\n",
       "      <td>F/1/S</td>\n",
       "      <td>TRAPPIST-1e</td>\n",
       "      <td>16.0</td>\n",
       "      <td>False</td>\n",
       "      <td>303.0</td>\n",
       "      <td>70.0</td>\n",
       "      <td>151.0</td>\n",
       "      <td>565.0</td>\n",
       "      <td>2.0</td>\n",
       "      <td>True</td>\n",
       "    </tr>\n",
       "    <tr>\n",
       "      <th>...</th>\n",
       "      <td>...</td>\n",
       "      <td>...</td>\n",
       "      <td>...</td>\n",
       "      <td>...</td>\n",
       "      <td>...</td>\n",
       "      <td>...</td>\n",
       "      <td>...</td>\n",
       "      <td>...</td>\n",
       "      <td>...</td>\n",
       "      <td>...</td>\n",
       "      <td>...</td>\n",
       "      <td>...</td>\n",
       "    </tr>\n",
       "    <tr>\n",
       "      <th>8688</th>\n",
       "      <td>Europa</td>\n",
       "      <td>False</td>\n",
       "      <td>A/98/P</td>\n",
       "      <td>55 Cancri e</td>\n",
       "      <td>41.0</td>\n",
       "      <td>True</td>\n",
       "      <td>0.0</td>\n",
       "      <td>6819.0</td>\n",
       "      <td>0.0</td>\n",
       "      <td>1643.0</td>\n",
       "      <td>74.0</td>\n",
       "      <td>False</td>\n",
       "    </tr>\n",
       "    <tr>\n",
       "      <th>8689</th>\n",
       "      <td>Earth</td>\n",
       "      <td>True</td>\n",
       "      <td>G/1499/S</td>\n",
       "      <td>PSO J318.5-22</td>\n",
       "      <td>18.0</td>\n",
       "      <td>False</td>\n",
       "      <td>0.0</td>\n",
       "      <td>0.0</td>\n",
       "      <td>0.0</td>\n",
       "      <td>0.0</td>\n",
       "      <td>0.0</td>\n",
       "      <td>False</td>\n",
       "    </tr>\n",
       "    <tr>\n",
       "      <th>8690</th>\n",
       "      <td>Earth</td>\n",
       "      <td>False</td>\n",
       "      <td>G/1500/S</td>\n",
       "      <td>TRAPPIST-1e</td>\n",
       "      <td>26.0</td>\n",
       "      <td>False</td>\n",
       "      <td>0.0</td>\n",
       "      <td>0.0</td>\n",
       "      <td>1872.0</td>\n",
       "      <td>1.0</td>\n",
       "      <td>0.0</td>\n",
       "      <td>True</td>\n",
       "    </tr>\n",
       "    <tr>\n",
       "      <th>8691</th>\n",
       "      <td>Europa</td>\n",
       "      <td>False</td>\n",
       "      <td>E/608/S</td>\n",
       "      <td>55 Cancri e</td>\n",
       "      <td>32.0</td>\n",
       "      <td>False</td>\n",
       "      <td>0.0</td>\n",
       "      <td>1049.0</td>\n",
       "      <td>0.0</td>\n",
       "      <td>353.0</td>\n",
       "      <td>3235.0</td>\n",
       "      <td>False</td>\n",
       "    </tr>\n",
       "    <tr>\n",
       "      <th>8692</th>\n",
       "      <td>Europa</td>\n",
       "      <td>False</td>\n",
       "      <td>E/608/S</td>\n",
       "      <td>TRAPPIST-1e</td>\n",
       "      <td>44.0</td>\n",
       "      <td>False</td>\n",
       "      <td>126.0</td>\n",
       "      <td>4688.0</td>\n",
       "      <td>0.0</td>\n",
       "      <td>0.0</td>\n",
       "      <td>12.0</td>\n",
       "      <td>True</td>\n",
       "    </tr>\n",
       "  </tbody>\n",
       "</table>\n",
       "<p>8693 rows × 12 columns</p>\n",
       "</div>"
      ],
      "text/plain": [
       "     HomePlanet CryoSleep     Cabin    Destination   Age    VIP  RoomService  \\\n",
       "0        Europa     False     B/0/P    TRAPPIST-1e  39.0  False          0.0   \n",
       "1         Earth     False     F/0/S    TRAPPIST-1e  24.0  False        109.0   \n",
       "2        Europa     False     A/0/S    TRAPPIST-1e  58.0   True         43.0   \n",
       "3        Europa     False     A/0/S    TRAPPIST-1e  33.0  False          0.0   \n",
       "4         Earth     False     F/1/S    TRAPPIST-1e  16.0  False        303.0   \n",
       "...         ...       ...       ...            ...   ...    ...          ...   \n",
       "8688     Europa     False    A/98/P    55 Cancri e  41.0   True          0.0   \n",
       "8689      Earth      True  G/1499/S  PSO J318.5-22  18.0  False          0.0   \n",
       "8690      Earth     False  G/1500/S    TRAPPIST-1e  26.0  False          0.0   \n",
       "8691     Europa     False   E/608/S    55 Cancri e  32.0  False          0.0   \n",
       "8692     Europa     False   E/608/S    TRAPPIST-1e  44.0  False        126.0   \n",
       "\n",
       "      FoodCourt  ShoppingMall     Spa  VRDeck  Transported  \n",
       "0           0.0           0.0     0.0     0.0        False  \n",
       "1           9.0          25.0   549.0    44.0         True  \n",
       "2        3576.0           0.0  6715.0    49.0        False  \n",
       "3        1283.0         371.0  3329.0   193.0        False  \n",
       "4          70.0         151.0   565.0     2.0         True  \n",
       "...         ...           ...     ...     ...          ...  \n",
       "8688     6819.0           0.0  1643.0    74.0        False  \n",
       "8689        0.0           0.0     0.0     0.0        False  \n",
       "8690        0.0        1872.0     1.0     0.0         True  \n",
       "8691     1049.0           0.0   353.0  3235.0        False  \n",
       "8692     4688.0           0.0     0.0    12.0         True  \n",
       "\n",
       "[8693 rows x 12 columns]"
      ]
     },
     "execution_count": 12,
     "metadata": {},
     "output_type": "execute_result"
    }
   ],
   "source": [
    "data.drop([\"PassengerId\", \"Name\"], axis=1)"
   ]
  },
  {
   "cell_type": "markdown",
   "metadata": {},
   "source": [
    "Separando a base de dados em uma base com apenas os dados categóricos relevantes."
   ]
  },
  {
   "cell_type": "code",
   "execution_count": 13,
   "metadata": {
    "colab": {
     "base_uri": "https://localhost:8080/",
     "height": 424
    },
    "executionInfo": {
     "elapsed": 4,
     "status": "ok",
     "timestamp": 1668007435694,
     "user": {
      "displayName": "Francisco Janela",
      "userId": "09488974505845489559"
     },
     "user_tz": 180
    },
    "id": "3gtM3xbh-Cl6",
    "outputId": "128556e4-8d9c-488c-f26d-11dbd756c12d"
   },
   "outputs": [
    {
     "data": {
      "text/html": [
       "<div>\n",
       "<style scoped>\n",
       "    .dataframe tbody tr th:only-of-type {\n",
       "        vertical-align: middle;\n",
       "    }\n",
       "\n",
       "    .dataframe tbody tr th {\n",
       "        vertical-align: top;\n",
       "    }\n",
       "\n",
       "    .dataframe thead th {\n",
       "        text-align: right;\n",
       "    }\n",
       "</style>\n",
       "<table border=\"1\" class=\"dataframe\">\n",
       "  <thead>\n",
       "    <tr style=\"text-align: right;\">\n",
       "      <th></th>\n",
       "      <th>HomePlanet</th>\n",
       "      <th>CryoSleep</th>\n",
       "      <th>Cabin</th>\n",
       "      <th>Destination</th>\n",
       "      <th>VIP</th>\n",
       "    </tr>\n",
       "  </thead>\n",
       "  <tbody>\n",
       "    <tr>\n",
       "      <th>0</th>\n",
       "      <td>Europa</td>\n",
       "      <td>False</td>\n",
       "      <td>B/0/P</td>\n",
       "      <td>TRAPPIST-1e</td>\n",
       "      <td>False</td>\n",
       "    </tr>\n",
       "    <tr>\n",
       "      <th>1</th>\n",
       "      <td>Earth</td>\n",
       "      <td>False</td>\n",
       "      <td>F/0/S</td>\n",
       "      <td>TRAPPIST-1e</td>\n",
       "      <td>False</td>\n",
       "    </tr>\n",
       "    <tr>\n",
       "      <th>2</th>\n",
       "      <td>Europa</td>\n",
       "      <td>False</td>\n",
       "      <td>A/0/S</td>\n",
       "      <td>TRAPPIST-1e</td>\n",
       "      <td>True</td>\n",
       "    </tr>\n",
       "    <tr>\n",
       "      <th>3</th>\n",
       "      <td>Europa</td>\n",
       "      <td>False</td>\n",
       "      <td>A/0/S</td>\n",
       "      <td>TRAPPIST-1e</td>\n",
       "      <td>False</td>\n",
       "    </tr>\n",
       "    <tr>\n",
       "      <th>4</th>\n",
       "      <td>Earth</td>\n",
       "      <td>False</td>\n",
       "      <td>F/1/S</td>\n",
       "      <td>TRAPPIST-1e</td>\n",
       "      <td>False</td>\n",
       "    </tr>\n",
       "    <tr>\n",
       "      <th>...</th>\n",
       "      <td>...</td>\n",
       "      <td>...</td>\n",
       "      <td>...</td>\n",
       "      <td>...</td>\n",
       "      <td>...</td>\n",
       "    </tr>\n",
       "    <tr>\n",
       "      <th>8688</th>\n",
       "      <td>Europa</td>\n",
       "      <td>False</td>\n",
       "      <td>A/98/P</td>\n",
       "      <td>55 Cancri e</td>\n",
       "      <td>True</td>\n",
       "    </tr>\n",
       "    <tr>\n",
       "      <th>8689</th>\n",
       "      <td>Earth</td>\n",
       "      <td>True</td>\n",
       "      <td>G/1499/S</td>\n",
       "      <td>PSO J318.5-22</td>\n",
       "      <td>False</td>\n",
       "    </tr>\n",
       "    <tr>\n",
       "      <th>8690</th>\n",
       "      <td>Earth</td>\n",
       "      <td>False</td>\n",
       "      <td>G/1500/S</td>\n",
       "      <td>TRAPPIST-1e</td>\n",
       "      <td>False</td>\n",
       "    </tr>\n",
       "    <tr>\n",
       "      <th>8691</th>\n",
       "      <td>Europa</td>\n",
       "      <td>False</td>\n",
       "      <td>E/608/S</td>\n",
       "      <td>55 Cancri e</td>\n",
       "      <td>False</td>\n",
       "    </tr>\n",
       "    <tr>\n",
       "      <th>8692</th>\n",
       "      <td>Europa</td>\n",
       "      <td>False</td>\n",
       "      <td>E/608/S</td>\n",
       "      <td>TRAPPIST-1e</td>\n",
       "      <td>False</td>\n",
       "    </tr>\n",
       "  </tbody>\n",
       "</table>\n",
       "<p>8693 rows × 5 columns</p>\n",
       "</div>"
      ],
      "text/plain": [
       "     HomePlanet CryoSleep     Cabin    Destination    VIP\n",
       "0        Europa     False     B/0/P    TRAPPIST-1e  False\n",
       "1         Earth     False     F/0/S    TRAPPIST-1e  False\n",
       "2        Europa     False     A/0/S    TRAPPIST-1e   True\n",
       "3        Europa     False     A/0/S    TRAPPIST-1e  False\n",
       "4         Earth     False     F/1/S    TRAPPIST-1e  False\n",
       "...         ...       ...       ...            ...    ...\n",
       "8688     Europa     False    A/98/P    55 Cancri e   True\n",
       "8689      Earth      True  G/1499/S  PSO J318.5-22  False\n",
       "8690      Earth     False  G/1500/S    TRAPPIST-1e  False\n",
       "8691     Europa     False   E/608/S    55 Cancri e  False\n",
       "8692     Europa     False   E/608/S    TRAPPIST-1e  False\n",
       "\n",
       "[8693 rows x 5 columns]"
      ]
     },
     "execution_count": 13,
     "metadata": {},
     "output_type": "execute_result"
    }
   ],
   "source": [
    "data_cat = data.loc[:, [\"HomePlanet\", \"CryoSleep\", \"Cabin\", \"Destination\", \"VIP\"]]\n",
    "data_cat"
   ]
  },
  {
   "cell_type": "markdown",
   "metadata": {},
   "source": [
    "##### <b>Transported</b>"
   ]
  },
  {
   "cell_type": "code",
   "execution_count": 14,
   "metadata": {
    "colab": {
     "base_uri": "https://localhost:8080/"
    },
    "executionInfo": {
     "elapsed": 315,
     "status": "ok",
     "timestamp": 1668007438943,
     "user": {
      "displayName": "Francisco Janela",
      "userId": "09488974505845489559"
     },
     "user_tz": 180
    },
    "id": "QenWNgBS-Cl6",
    "outputId": "5c6b4438-8d43-414a-e22e-a4252b77cf79"
   },
   "outputs": [
    {
     "data": {
      "text/plain": [
       "Transported\n",
       "True           4378\n",
       "False          4315\n",
       "dtype: int64"
      ]
     },
     "execution_count": 14,
     "metadata": {},
     "output_type": "execute_result"
    }
   ],
   "source": [
    "target = data.loc[:, [\"Transported\"]]\n",
    "target.value_counts()"
   ]
  },
  {
   "cell_type": "markdown",
   "metadata": {},
   "source": [
    "#### <b>Histograma</b>\n",
    "\n",
    "Abaixo, será plotado um gráfico para possibilitar a visualização da correlação entre cada uma das variáveis categóricas e o _*target*_, mostrando em que casos é mais provável que seja *True* ou *False*."
   ]
  },
  {
   "cell_type": "code",
   "execution_count": 15,
   "metadata": {},
   "outputs": [
    {
     "data": {
      "image/png": "[encoded data removed]",
      "text/plain": [
       "<Figure size 432x288 with 1 Axes>"
      ]
     },
     "metadata": {
      "needs_background": "light"
     },
     "output_type": "display_data"
    },
    {
     "data": {
      "image/png": "[encoded data removed]",
      "text/plain": [
       "<Figure size 432x288 with 1 Axes>"
      ]
     },
     "metadata": {
      "needs_background": "light"
     },
     "output_type": "display_data"
    },
    {
     "data": {
      "image/png": "[encoded data removed]",
      "text/plain": [
       "<Figure size 432x288 with 1 Axes>"
      ]
     },
     "metadata": {
      "needs_background": "light"
     },
     "output_type": "display_data"
    },
    {
     "data": {
      "image/png": "[encoded data removed]",
      "text/plain": [
       "<Figure size 432x288 with 1 Axes>"
      ]
     },
     "metadata": {
      "needs_background": "light"
     },
     "output_type": "display_data"
    }
   ],
   "source": [
    "lista=[\"HomePlanet\",'CryoSleep','Destination','VIP']\n",
    "cores = ['crimson','skyblue']\n",
    "n=0\n",
    "\n",
    "for i in lista:\n",
    "    Transported_x_y=pd.crosstab(data[i], data['Transported'], normalize='index',margins=True).round(4)\n",
    "    Transported_x_y.plot.bar(color=cores, stacked=True)\n",
    "    plt.ylabel(\"Freq. Relativas (em%)\")\n",
    "    plt.xlabel(i)\n",
    "plt.show()"
   ]
  },
  {
   "cell_type": "markdown",
   "metadata": {},
   "source": [
    "## <b> Análise dos gráficos </b>\n",
    "\n",
    "***\n",
    "\n",
    "#### <b>HomePlanet</b>\n",
    "\n",
    "A partir do gráfico gerado, é possível notar que a probabilidade de um passageiro ser teletransportado para outra dimensão acaba sendo maior para os casos em que seu planeta de origem é Europa, podendo resultar em uma possível correlação entre esses fatores.\n",
    "\n",
    "#### <b>CryoSleep</b>\n",
    "\n",
    "Com esse gráfico, a probabilidade de um passageiro que esteja em Cryo Sleep seja teletransportado é de mais de 80%, o que pode indicar uma forte correlação entre a <b>_target_</b> essa variável. \n",
    "\n",
    "#### <b>Destination</b>\n",
    "\n",
    "Com os resultados obtidos, o planeta de destino que mais gerou casos de passageiros sendo teletransportados foi o 55 Cancri e, porém, sua correlação não é muito grande, sendo que apenas 60% dos casos foram verdadeiros, mas ainda não é possível descartar essa variável.\n",
    "\n",
    "#### <b>VIP</b>\n",
    "\n",
    "Nesse caso, quando o passageiro possuia acesso aos serviços VIP, isso resultou em uma menor probabilidade de ter sido teletransportado, o que pode ser um indício de uma boa correlação entre essas duas variáveis.\n",
    "\n",
    "****"
   ]
  },
  {
   "cell_type": "markdown",
   "metadata": {},
   "source": [
    "Abaixo, será realizado um split visando separar as diferentes classificações possíveis para identificar a localização da cabine do passageiro, sendo elas: deck, num e side.\n",
    "\n",
    "- Deck = Altura;\n",
    "- Num = Número da cabine;\n",
    "- Side = P (Port) ou S (Starboard)"
   ]
  },
  {
   "cell_type": "code",
   "execution_count": 16,
   "metadata": {},
   "outputs": [
    {
     "data": {
      "text/html": [
       "<div>\n",
       "<style scoped>\n",
       "    .dataframe tbody tr th:only-of-type {\n",
       "        vertical-align: middle;\n",
       "    }\n",
       "\n",
       "    .dataframe tbody tr th {\n",
       "        vertical-align: top;\n",
       "    }\n",
       "\n",
       "    .dataframe thead th {\n",
       "        text-align: right;\n",
       "    }\n",
       "</style>\n",
       "<table border=\"1\" class=\"dataframe\">\n",
       "  <thead>\n",
       "    <tr style=\"text-align: right;\">\n",
       "      <th></th>\n",
       "      <th>PassengerId</th>\n",
       "      <th>HomePlanet</th>\n",
       "      <th>CryoSleep</th>\n",
       "      <th>Cabin</th>\n",
       "      <th>Destination</th>\n",
       "      <th>Age</th>\n",
       "      <th>VIP</th>\n",
       "      <th>RoomService</th>\n",
       "      <th>FoodCourt</th>\n",
       "      <th>ShoppingMall</th>\n",
       "      <th>Spa</th>\n",
       "      <th>VRDeck</th>\n",
       "      <th>Name</th>\n",
       "      <th>Transported</th>\n",
       "      <th>deck</th>\n",
       "      <th>num</th>\n",
       "      <th>side</th>\n",
       "    </tr>\n",
       "  </thead>\n",
       "  <tbody>\n",
       "    <tr>\n",
       "      <th>0</th>\n",
       "      <td>0001_01</td>\n",
       "      <td>Europa</td>\n",
       "      <td>False</td>\n",
       "      <td>B/0/P</td>\n",
       "      <td>TRAPPIST-1e</td>\n",
       "      <td>39.0</td>\n",
       "      <td>False</td>\n",
       "      <td>0.0</td>\n",
       "      <td>0.0</td>\n",
       "      <td>0.0</td>\n",
       "      <td>0.0</td>\n",
       "      <td>0.0</td>\n",
       "      <td>Maham Ofracculy</td>\n",
       "      <td>False</td>\n",
       "      <td>B</td>\n",
       "      <td>0</td>\n",
       "      <td>P</td>\n",
       "    </tr>\n",
       "    <tr>\n",
       "      <th>1</th>\n",
       "      <td>0002_01</td>\n",
       "      <td>Earth</td>\n",
       "      <td>False</td>\n",
       "      <td>F/0/S</td>\n",
       "      <td>TRAPPIST-1e</td>\n",
       "      <td>24.0</td>\n",
       "      <td>False</td>\n",
       "      <td>109.0</td>\n",
       "      <td>9.0</td>\n",
       "      <td>25.0</td>\n",
       "      <td>549.0</td>\n",
       "      <td>44.0</td>\n",
       "      <td>Juanna Vines</td>\n",
       "      <td>True</td>\n",
       "      <td>F</td>\n",
       "      <td>0</td>\n",
       "      <td>S</td>\n",
       "    </tr>\n",
       "    <tr>\n",
       "      <th>2</th>\n",
       "      <td>0003_01</td>\n",
       "      <td>Europa</td>\n",
       "      <td>False</td>\n",
       "      <td>A/0/S</td>\n",
       "      <td>TRAPPIST-1e</td>\n",
       "      <td>58.0</td>\n",
       "      <td>True</td>\n",
       "      <td>43.0</td>\n",
       "      <td>3576.0</td>\n",
       "      <td>0.0</td>\n",
       "      <td>6715.0</td>\n",
       "      <td>49.0</td>\n",
       "      <td>Altark Susent</td>\n",
       "      <td>False</td>\n",
       "      <td>A</td>\n",
       "      <td>0</td>\n",
       "      <td>S</td>\n",
       "    </tr>\n",
       "    <tr>\n",
       "      <th>3</th>\n",
       "      <td>0003_02</td>\n",
       "      <td>Europa</td>\n",
       "      <td>False</td>\n",
       "      <td>A/0/S</td>\n",
       "      <td>TRAPPIST-1e</td>\n",
       "      <td>33.0</td>\n",
       "      <td>False</td>\n",
       "      <td>0.0</td>\n",
       "      <td>1283.0</td>\n",
       "      <td>371.0</td>\n",
       "      <td>3329.0</td>\n",
       "      <td>193.0</td>\n",
       "      <td>Solam Susent</td>\n",
       "      <td>False</td>\n",
       "      <td>A</td>\n",
       "      <td>0</td>\n",
       "      <td>S</td>\n",
       "    </tr>\n",
       "    <tr>\n",
       "      <th>4</th>\n",
       "      <td>0004_01</td>\n",
       "      <td>Earth</td>\n",
       "      <td>False</td>\n",
       "      <td>F/1/S</td>\n",
       "      <td>TRAPPIST-1e</td>\n",
       "      <td>16.0</td>\n",
       "      <td>False</td>\n",
       "      <td>303.0</td>\n",
       "      <td>70.0</td>\n",
       "      <td>151.0</td>\n",
       "      <td>565.0</td>\n",
       "      <td>2.0</td>\n",
       "      <td>Willy Santantines</td>\n",
       "      <td>True</td>\n",
       "      <td>F</td>\n",
       "      <td>1</td>\n",
       "      <td>S</td>\n",
       "    </tr>\n",
       "    <tr>\n",
       "      <th>...</th>\n",
       "      <td>...</td>\n",
       "      <td>...</td>\n",
       "      <td>...</td>\n",
       "      <td>...</td>\n",
       "      <td>...</td>\n",
       "      <td>...</td>\n",
       "      <td>...</td>\n",
       "      <td>...</td>\n",
       "      <td>...</td>\n",
       "      <td>...</td>\n",
       "      <td>...</td>\n",
       "      <td>...</td>\n",
       "      <td>...</td>\n",
       "      <td>...</td>\n",
       "      <td>...</td>\n",
       "      <td>...</td>\n",
       "      <td>...</td>\n",
       "    </tr>\n",
       "    <tr>\n",
       "      <th>8688</th>\n",
       "      <td>9276_01</td>\n",
       "      <td>Europa</td>\n",
       "      <td>False</td>\n",
       "      <td>A/98/P</td>\n",
       "      <td>55 Cancri e</td>\n",
       "      <td>41.0</td>\n",
       "      <td>True</td>\n",
       "      <td>0.0</td>\n",
       "      <td>6819.0</td>\n",
       "      <td>0.0</td>\n",
       "      <td>1643.0</td>\n",
       "      <td>74.0</td>\n",
       "      <td>Gravior Noxnuther</td>\n",
       "      <td>False</td>\n",
       "      <td>A</td>\n",
       "      <td>98</td>\n",
       "      <td>P</td>\n",
       "    </tr>\n",
       "    <tr>\n",
       "      <th>8689</th>\n",
       "      <td>9278_01</td>\n",
       "      <td>Earth</td>\n",
       "      <td>True</td>\n",
       "      <td>G/1499/S</td>\n",
       "      <td>PSO J318.5-22</td>\n",
       "      <td>18.0</td>\n",
       "      <td>False</td>\n",
       "      <td>0.0</td>\n",
       "      <td>0.0</td>\n",
       "      <td>0.0</td>\n",
       "      <td>0.0</td>\n",
       "      <td>0.0</td>\n",
       "      <td>Kurta Mondalley</td>\n",
       "      <td>False</td>\n",
       "      <td>G</td>\n",
       "      <td>1499</td>\n",
       "      <td>S</td>\n",
       "    </tr>\n",
       "    <tr>\n",
       "      <th>8690</th>\n",
       "      <td>9279_01</td>\n",
       "      <td>Earth</td>\n",
       "      <td>False</td>\n",
       "      <td>G/1500/S</td>\n",
       "      <td>TRAPPIST-1e</td>\n",
       "      <td>26.0</td>\n",
       "      <td>False</td>\n",
       "      <td>0.0</td>\n",
       "      <td>0.0</td>\n",
       "      <td>1872.0</td>\n",
       "      <td>1.0</td>\n",
       "      <td>0.0</td>\n",
       "      <td>Fayey Connon</td>\n",
       "      <td>True</td>\n",
       "      <td>G</td>\n",
       "      <td>1500</td>\n",
       "      <td>S</td>\n",
       "    </tr>\n",
       "    <tr>\n",
       "      <th>8691</th>\n",
       "      <td>9280_01</td>\n",
       "      <td>Europa</td>\n",
       "      <td>False</td>\n",
       "      <td>E/608/S</td>\n",
       "      <td>55 Cancri e</td>\n",
       "      <td>32.0</td>\n",
       "      <td>False</td>\n",
       "      <td>0.0</td>\n",
       "      <td>1049.0</td>\n",
       "      <td>0.0</td>\n",
       "      <td>353.0</td>\n",
       "      <td>3235.0</td>\n",
       "      <td>Celeon Hontichre</td>\n",
       "      <td>False</td>\n",
       "      <td>E</td>\n",
       "      <td>608</td>\n",
       "      <td>S</td>\n",
       "    </tr>\n",
       "    <tr>\n",
       "      <th>8692</th>\n",
       "      <td>9280_02</td>\n",
       "      <td>Europa</td>\n",
       "      <td>False</td>\n",
       "      <td>E/608/S</td>\n",
       "      <td>TRAPPIST-1e</td>\n",
       "      <td>44.0</td>\n",
       "      <td>False</td>\n",
       "      <td>126.0</td>\n",
       "      <td>4688.0</td>\n",
       "      <td>0.0</td>\n",
       "      <td>0.0</td>\n",
       "      <td>12.0</td>\n",
       "      <td>Propsh Hontichre</td>\n",
       "      <td>True</td>\n",
       "      <td>E</td>\n",
       "      <td>608</td>\n",
       "      <td>S</td>\n",
       "    </tr>\n",
       "  </tbody>\n",
       "</table>\n",
       "<p>8693 rows × 17 columns</p>\n",
       "</div>"
      ],
      "text/plain": [
       "     PassengerId HomePlanet CryoSleep     Cabin    Destination   Age    VIP  \\\n",
       "0        0001_01     Europa     False     B/0/P    TRAPPIST-1e  39.0  False   \n",
       "1        0002_01      Earth     False     F/0/S    TRAPPIST-1e  24.0  False   \n",
       "2        0003_01     Europa     False     A/0/S    TRAPPIST-1e  58.0   True   \n",
       "3        0003_02     Europa     False     A/0/S    TRAPPIST-1e  33.0  False   \n",
       "4        0004_01      Earth     False     F/1/S    TRAPPIST-1e  16.0  False   \n",
       "...          ...        ...       ...       ...            ...   ...    ...   \n",
       "8688     9276_01     Europa     False    A/98/P    55 Cancri e  41.0   True   \n",
       "8689     9278_01      Earth      True  G/1499/S  PSO J318.5-22  18.0  False   \n",
       "8690     9279_01      Earth     False  G/1500/S    TRAPPIST-1e  26.0  False   \n",
       "8691     9280_01     Europa     False   E/608/S    55 Cancri e  32.0  False   \n",
       "8692     9280_02     Europa     False   E/608/S    TRAPPIST-1e  44.0  False   \n",
       "\n",
       "      RoomService  FoodCourt  ShoppingMall     Spa  VRDeck               Name  \\\n",
       "0             0.0        0.0           0.0     0.0     0.0    Maham Ofracculy   \n",
       "1           109.0        9.0          25.0   549.0    44.0       Juanna Vines   \n",
       "2            43.0     3576.0           0.0  6715.0    49.0      Altark Susent   \n",
       "3             0.0     1283.0         371.0  3329.0   193.0       Solam Susent   \n",
       "4           303.0       70.0         151.0   565.0     2.0  Willy Santantines   \n",
       "...           ...        ...           ...     ...     ...                ...   \n",
       "8688          0.0     6819.0           0.0  1643.0    74.0  Gravior Noxnuther   \n",
       "8689          0.0        0.0           0.0     0.0     0.0    Kurta Mondalley   \n",
       "8690          0.0        0.0        1872.0     1.0     0.0       Fayey Connon   \n",
       "8691          0.0     1049.0           0.0   353.0  3235.0   Celeon Hontichre   \n",
       "8692        126.0     4688.0           0.0     0.0    12.0   Propsh Hontichre   \n",
       "\n",
       "      Transported deck   num side  \n",
       "0           False    B     0    P  \n",
       "1            True    F     0    S  \n",
       "2           False    A     0    S  \n",
       "3           False    A     0    S  \n",
       "4            True    F     1    S  \n",
       "...           ...  ...   ...  ...  \n",
       "8688        False    A    98    P  \n",
       "8689        False    G  1499    S  \n",
       "8690         True    G  1500    S  \n",
       "8691        False    E   608    S  \n",
       "8692         True    E   608    S  \n",
       "\n",
       "[8693 rows x 17 columns]"
      ]
     },
     "execution_count": 16,
     "metadata": {},
     "output_type": "execute_result"
    }
   ],
   "source": [
    "data[['deck','num','side']] = data['Cabin'].str.split('/', expand = True)\n",
    "data"
   ]
  },
  {
   "cell_type": "markdown",
   "metadata": {},
   "source": [
    "Com essas variáveis divididas, é possível analisar as diferentes correlações entre cada uma das variáveis de Cabin com a variável <b>_target_</b>, podendo interpretar se a posição do passageiro na espaçonave é um diferencial ou não."
   ]
  },
  {
   "cell_type": "code",
   "execution_count": 17,
   "metadata": {},
   "outputs": [
    {
     "data": {
      "image/png": "[encoded data removed]",
      "text/plain": [
       "<Figure size 432x288 with 1 Axes>"
      ]
     },
     "metadata": {
      "needs_background": "light"
     },
     "output_type": "display_data"
    },
    {
     "data": {
      "image/png": "[encoded data removed]",
      "text/plain": [
       "<Figure size 432x288 with 1 Axes>"
      ]
     },
     "metadata": {
      "needs_background": "light"
     },
     "output_type": "display_data"
    }
   ],
   "source": [
    "lista=[\"deck\",'side',]\n",
    "cores = ['crimson','skyblue']\n",
    "n=0\n",
    "\n",
    "for i in lista:\n",
    "    Transported_x_y=pd.crosstab(data[i], data['Transported'], normalize='index',margins=True).round(4)\n",
    "    Transported_x_y.plot.bar(color=cores, stacked=True)\n",
    "    plt.ylabel(\"Freq. Relativas (em%)\")\n",
    "    plt.xlabel(i)\n",
    "plt.show()"
   ]
  },
  {
   "cell_type": "markdown",
   "metadata": {},
   "source": [
    "## <b>Análise dos gráficos </b>\n",
    "***\n",
    "\n",
    "#### <b> Deck </b>\n",
    "\n",
    "Com o gráfico obtido nessa variável, é possível interpretar que os andares com maior probabilidade de fazer com que o passageiro seja teletransportado são os andares B e C, podendo indicar que essa posição em específico faça com que a chance de isso ocorrer aumente.\n",
    "\n",
    "#### <b> Side </b>\n",
    "\n",
    "A partir do gráfico obtido, pode-se dizer que a diferença de probabilidade de se obter _True_ na variável do <b>_target_</b> entre o side P ou S é muito pequena, apesar de que caso o passageiro se encontre na Starboard, a sua probabilidade é maior, podendo indicar uma não relevância dessa variável para a mudança do <b>_target_</b>.\n",
    "\n",
    "***"
   ]
  },
  {
   "cell_type": "code",
   "execution_count": 18,
   "metadata": {},
   "outputs": [
    {
     "name": "stderr",
     "output_type": "stream",
     "text": [
      "C:\\Users\\Henrique Martinelli\\AppData\\Local\\Temp\\ipykernel_19320\\823273497.py:4: SettingWithCopyWarning: \n",
      "A value is trying to be set on a copy of a slice from a DataFrame.\n",
      "Try using .loc[row_indexer,col_indexer] = value instead\n",
      "\n",
      "See the caveats in the documentation: https://pandas.pydata.org/pandas-docs/stable/user_guide/indexing.html#returning-a-view-versus-a-copy\n",
      "  data_test['num'] = data_test['num'].astype(int)\n"
     ]
    },
    {
     "data": {
      "image/png": "[encoded data removed]",
      "text/plain": [
       "<Figure size 576x432 with 1 Axes>"
      ]
     },
     "metadata": {
      "needs_background": "light"
     },
     "output_type": "display_data"
    },
    {
     "data": {
      "image/png": "[encoded data removed]",
      "text/plain": [
       "<Figure size 576x432 with 1 Axes>"
      ]
     },
     "metadata": {
      "needs_background": "light"
     },
     "output_type": "display_data"
    }
   ],
   "source": [
    "# create data test for all non nan num values\n",
    "data_test = data.dropna()\n",
    "# transform column num to integer\n",
    "data_test['num'] = data_test['num'].astype(int)\n",
    "# plot histogram for transported True\n",
    "data_test.loc[data_test[\"Transported\"] == True].loc[:, [\"num\"]].hist(bins=int(np.sqrt(len(data_test))), figsize=(8,6));\n",
    "data_test.loc[data_test[\"Transported\"] == False].loc[:, [\"num\"]].hist(bins=int(np.sqrt(len(data_test))), figsize=(8,6));"
   ]
  },
  {
   "cell_type": "markdown",
   "metadata": {
    "id": "uKQwTC84-Cl6"
   },
   "source": [
    "# <b > Analisando as variáveis numéricas</b>\n",
    "***"
   ]
  },
  {
   "cell_type": "markdown",
   "metadata": {},
   "source": [
    "Agora, será separado as variáveis numéricas do resto da base de dados, para que também seja possível a análise de cada uma delas e suas correlações com a <b>_target_</b>."
   ]
  },
  {
   "cell_type": "code",
   "execution_count": 19,
   "metadata": {},
   "outputs": [
    {
     "data": {
      "text/html": [
       "<div>\n",
       "<style scoped>\n",
       "    .dataframe tbody tr th:only-of-type {\n",
       "        vertical-align: middle;\n",
       "    }\n",
       "\n",
       "    .dataframe tbody tr th {\n",
       "        vertical-align: top;\n",
       "    }\n",
       "\n",
       "    .dataframe thead th {\n",
       "        text-align: right;\n",
       "    }\n",
       "</style>\n",
       "<table border=\"1\" class=\"dataframe\">\n",
       "  <thead>\n",
       "    <tr style=\"text-align: right;\">\n",
       "      <th></th>\n",
       "      <th>Age</th>\n",
       "      <th>RoomService</th>\n",
       "      <th>FoodCourt</th>\n",
       "      <th>ShoppingMall</th>\n",
       "      <th>Spa</th>\n",
       "      <th>VRDeck</th>\n",
       "    </tr>\n",
       "  </thead>\n",
       "  <tbody>\n",
       "    <tr>\n",
       "      <th>0</th>\n",
       "      <td>39.0</td>\n",
       "      <td>0.0</td>\n",
       "      <td>0.0</td>\n",
       "      <td>0.0</td>\n",
       "      <td>0.0</td>\n",
       "      <td>0.0</td>\n",
       "    </tr>\n",
       "    <tr>\n",
       "      <th>1</th>\n",
       "      <td>24.0</td>\n",
       "      <td>109.0</td>\n",
       "      <td>9.0</td>\n",
       "      <td>25.0</td>\n",
       "      <td>549.0</td>\n",
       "      <td>44.0</td>\n",
       "    </tr>\n",
       "    <tr>\n",
       "      <th>2</th>\n",
       "      <td>58.0</td>\n",
       "      <td>43.0</td>\n",
       "      <td>3576.0</td>\n",
       "      <td>0.0</td>\n",
       "      <td>6715.0</td>\n",
       "      <td>49.0</td>\n",
       "    </tr>\n",
       "    <tr>\n",
       "      <th>3</th>\n",
       "      <td>33.0</td>\n",
       "      <td>0.0</td>\n",
       "      <td>1283.0</td>\n",
       "      <td>371.0</td>\n",
       "      <td>3329.0</td>\n",
       "      <td>193.0</td>\n",
       "    </tr>\n",
       "    <tr>\n",
       "      <th>4</th>\n",
       "      <td>16.0</td>\n",
       "      <td>303.0</td>\n",
       "      <td>70.0</td>\n",
       "      <td>151.0</td>\n",
       "      <td>565.0</td>\n",
       "      <td>2.0</td>\n",
       "    </tr>\n",
       "    <tr>\n",
       "      <th>...</th>\n",
       "      <td>...</td>\n",
       "      <td>...</td>\n",
       "      <td>...</td>\n",
       "      <td>...</td>\n",
       "      <td>...</td>\n",
       "      <td>...</td>\n",
       "    </tr>\n",
       "    <tr>\n",
       "      <th>8688</th>\n",
       "      <td>41.0</td>\n",
       "      <td>0.0</td>\n",
       "      <td>6819.0</td>\n",
       "      <td>0.0</td>\n",
       "      <td>1643.0</td>\n",
       "      <td>74.0</td>\n",
       "    </tr>\n",
       "    <tr>\n",
       "      <th>8689</th>\n",
       "      <td>18.0</td>\n",
       "      <td>0.0</td>\n",
       "      <td>0.0</td>\n",
       "      <td>0.0</td>\n",
       "      <td>0.0</td>\n",
       "      <td>0.0</td>\n",
       "    </tr>\n",
       "    <tr>\n",
       "      <th>8690</th>\n",
       "      <td>26.0</td>\n",
       "      <td>0.0</td>\n",
       "      <td>0.0</td>\n",
       "      <td>1872.0</td>\n",
       "      <td>1.0</td>\n",
       "      <td>0.0</td>\n",
       "    </tr>\n",
       "    <tr>\n",
       "      <th>8691</th>\n",
       "      <td>32.0</td>\n",
       "      <td>0.0</td>\n",
       "      <td>1049.0</td>\n",
       "      <td>0.0</td>\n",
       "      <td>353.0</td>\n",
       "      <td>3235.0</td>\n",
       "    </tr>\n",
       "    <tr>\n",
       "      <th>8692</th>\n",
       "      <td>44.0</td>\n",
       "      <td>126.0</td>\n",
       "      <td>4688.0</td>\n",
       "      <td>0.0</td>\n",
       "      <td>0.0</td>\n",
       "      <td>12.0</td>\n",
       "    </tr>\n",
       "  </tbody>\n",
       "</table>\n",
       "<p>8693 rows × 6 columns</p>\n",
       "</div>"
      ],
      "text/plain": [
       "       Age  RoomService  FoodCourt  ShoppingMall     Spa  VRDeck\n",
       "0     39.0          0.0        0.0           0.0     0.0     0.0\n",
       "1     24.0        109.0        9.0          25.0   549.0    44.0\n",
       "2     58.0         43.0     3576.0           0.0  6715.0    49.0\n",
       "3     33.0          0.0     1283.0         371.0  3329.0   193.0\n",
       "4     16.0        303.0       70.0         151.0   565.0     2.0\n",
       "...    ...          ...        ...           ...     ...     ...\n",
       "8688  41.0          0.0     6819.0           0.0  1643.0    74.0\n",
       "8689  18.0          0.0        0.0           0.0     0.0     0.0\n",
       "8690  26.0          0.0        0.0        1872.0     1.0     0.0\n",
       "8691  32.0          0.0     1049.0           0.0   353.0  3235.0\n",
       "8692  44.0        126.0     4688.0           0.0     0.0    12.0\n",
       "\n",
       "[8693 rows x 6 columns]"
      ]
     },
     "execution_count": 19,
     "metadata": {},
     "output_type": "execute_result"
    }
   ],
   "source": [
    "data_num = data.loc[:, [\"Age\", \"RoomService\", \"FoodCourt\", \"ShoppingMall\", \"Spa\", \"VRDeck\"]]\n",
    "data_num"
   ]
  },
  {
   "cell_type": "code",
   "execution_count": 20,
   "metadata": {
    "id": "Qq44y8C2-Cl6"
   },
   "outputs": [],
   "source": [
    "BINS = int(np.sqrt(len(data_num.index)))"
   ]
  },
  {
   "cell_type": "code",
   "execution_count": 21,
   "metadata": {
    "colab": {
     "base_uri": "https://localhost:8080/",
     "height": 607
    },
    "executionInfo": {
     "elapsed": 2061,
     "status": "ok",
     "timestamp": 1668007447476,
     "user": {
      "displayName": "Francisco Janela",
      "userId": "09488974505845489559"
     },
     "user_tz": 180
    },
    "id": "hVrw-Eye-Cl6",
    "outputId": "4d044860-4190-4ff9-f2d3-490e5a344241"
   },
   "outputs": [
    {
     "data": {
      "image/png": "[encoded data removed]",
      "text/plain": [
       "<Figure size 1080x720 with 6 Axes>"
      ]
     },
     "metadata": {
      "needs_background": "light"
     },
     "output_type": "display_data"
    }
   ],
   "source": [
    "data_num.hist(bins=BINS, figsize=(15,10));"
   ]
  },
  {
   "cell_type": "markdown",
   "metadata": {},
   "source": [
    "## <b>Analisando gráficos</b>\n",
    "***\n",
    "\n",
    "#### <b>RoomService, Spa, VRDeck, FoodCourt, ShoppingMail</b>\n",
    "\n",
    "A partir dos gráficos acima, podemos perceber que as variáveis numéricas, com exceção de Age, possuem muitos valores nulos, isso ocorre quando o passageiro não possui nenhum gasto nesses serviços. Com isso, vamos analisar para encontrarmos em que casos isso mais ocorre.\n",
    "***"
   ]
  },
  {
   "cell_type": "markdown",
   "metadata": {},
   "source": [
    "Abaixo, foi realizada uma tentativa de normalização do gráfico de RoomService para melhor interpretação dos dados, mas sem sucesso."
   ]
  },
  {
   "cell_type": "code",
   "execution_count": 22,
   "metadata": {
    "colab": {
     "base_uri": "https://localhost:8080/",
     "height": 283
    },
    "executionInfo": {
     "elapsed": 500,
     "status": "ok",
     "timestamp": 1668007448801,
     "user": {
      "displayName": "Francisco Janela",
      "userId": "09488974505845489559"
     },
     "user_tz": 180
    },
    "id": "PwQ07Z_1-Cl7",
    "outputId": "341d072e-69f0-452f-ca31-aa2949681a35"
   },
   "outputs": [
    {
     "data": {
      "text/plain": [
       "<AxesSubplot:ylabel='Frequency'>"
      ]
     },
     "execution_count": 22,
     "metadata": {},
     "output_type": "execute_result"
    },
    {
     "data": {
      "image/png": "[encoded data removed]",
      "text/plain": [
       "<Figure size 432x288 with 1 Axes>"
      ]
     },
     "metadata": {
      "needs_background": "light"
     },
     "output_type": "display_data"
    }
   ],
   "source": [
    "data_num[\"RoomService\"].apply(np.cbrt).plot.hist(bins = BINS)"
   ]
  },
  {
   "cell_type": "code",
   "execution_count": 23,
   "metadata": {
    "colab": {
     "base_uri": "https://localhost:8080/",
     "height": 607
    },
    "executionInfo": {
     "elapsed": 1865,
     "status": "ok",
     "timestamp": 1668008045292,
     "user": {
      "displayName": "Francisco Janela",
      "userId": "09488974505845489559"
     },
     "user_tz": 180
    },
    "id": "Wh993sMO-Cl7",
    "outputId": "7985a286-1bf5-49aa-9d27-916c8e735f90"
   },
   "outputs": [
    {
     "data": {
      "text/plain": [
       "RoomService  FoodCourt  ShoppingMall  Spa  VRDeck\n",
       "0.0          0.0        0.0           0.0  0.0       2690\n",
       "dtype: int64"
      ]
     },
     "execution_count": 23,
     "metadata": {},
     "output_type": "execute_result"
    }
   ],
   "source": [
    "data.loc[data[\"CryoSleep\"] == True].loc[:, [\"RoomService\", \"FoodCourt\", \"ShoppingMall\", \"Spa\", \"VRDeck\"]].value_counts()"
   ]
  },
  {
   "cell_type": "markdown",
   "metadata": {
    "id": "XgzE8t_yB1tP"
   },
   "source": [
    "Acima, é possível perceber que quando o passageiro está em estado de CryoSleep, ele não vai possuir nenhum gasto com as ofertas da nave. Isso pode ser levado em consideração para preencher alguns valores nulos de gasto."
   ]
  },
  {
   "cell_type": "code",
   "execution_count": 24,
   "metadata": {
    "colab": {
     "base_uri": "https://localhost:8080/",
     "height": 607
    },
    "executionInfo": {
     "elapsed": 601,
     "status": "ok",
     "timestamp": 1668008375327,
     "user": {
      "displayName": "Francisco Janela",
      "userId": "09488974505845489559"
     },
     "user_tz": 180
    },
    "id": "srQr8yCGBUKr",
    "outputId": "a2bb14f1-717c-4c1f-93e9-c5b9544fa5d5"
   },
   "outputs": [
    {
     "data": {
      "image/png": "[encoded data removed]",
      "text/plain": [
       "<Figure size 576x432 with 1 Axes>"
      ]
     },
     "metadata": {
      "needs_background": "light"
     },
     "output_type": "display_data"
    }
   ],
   "source": [
    "data.loc[data[\"Transported\"] == True].loc[:, [\"Age\"]].hist(bins=BINS, figsize=(8,6));"
   ]
  },
  {
   "cell_type": "code",
   "execution_count": 25,
   "metadata": {
    "colab": {
     "base_uri": "https://localhost:8080/",
     "height": 607
    },
    "executionInfo": {
     "elapsed": 729,
     "status": "ok",
     "timestamp": 1668008434807,
     "user": {
      "displayName": "Francisco Janela",
      "userId": "09488974505845489559"
     },
     "user_tz": 180
    },
    "id": "7c9P8UXMC7yU",
    "outputId": "5a0433f8-18d5-416f-8563-0b3ac18f17d0"
   },
   "outputs": [
    {
     "data": {
      "image/png": "[encoded data removed]",
      "text/plain": [
       "<Figure size 576x432 with 1 Axes>"
      ]
     },
     "metadata": {
      "needs_background": "light"
     },
     "output_type": "display_data"
    }
   ],
   "source": [
    "data.loc[data[\"Transported\"] == False].loc[:, [\"Age\"]].hist(bins=BINS, figsize=(8,6));"
   ]
  },
  {
   "cell_type": "markdown",
   "metadata": {},
   "source": [
    "A partir dos gráficos acima, é possível interpretar que, ainda que aparente não possuir muita relação, podemos notar uma leve diferença com relação aos passageiros mais novos, que tiveram uma chance maior de serem teletransportados."
   ]
  },
  {
   "cell_type": "markdown",
   "metadata": {},
   "source": [
    "# Limpeza e Preenchimento\n",
    "***\n",
    "\n",
    "Para começar, baseado na análise das variáveis de CryoSleep e despezas na nave, serão preenchidos todos os gastos com zero daquelas pessoas que estavam viajando em CryoSleep."
   ]
  },
  {
   "cell_type": "code",
   "execution_count": 26,
   "metadata": {},
   "outputs": [],
   "source": [
    "data.loc[data[\"CryoSleep\"] == True, [\"RoomService\", \"FoodCourt\", \"ShoppingMall\", \"Spa\", \"VRDeck\"]] = 0 "
   ]
  },
  {
   "cell_type": "markdown",
   "metadata": {},
   "source": [
    "Depois de preenchidos estes valores, outros resultados serão preenchidos utilizando a melhor função de **Inputer**, que será medida pela acurácia do CrossValidation com a padronização de um modelo de classificação."
   ]
  },
  {
   "cell_type": "markdown",
   "metadata": {},
   "source": [
    "# Análise de Inputers\n",
    "***\n",
    "\n",
    "Agora, será realizado uma regressão para determinar qual o melhor tipo de *Imputer* para podermos aplicar na base de dados original para os dados faltantes. Os tipos de inputer testados serão o SimpleImputer, IterativeImputer e KNNImputer."
   ]
  },
  {
   "cell_type": "code",
   "execution_count": 27,
   "metadata": {},
   "outputs": [],
   "source": [
    "RAND_SEED = 42\n",
    "np.random.seed(RAND_SEED)\n",
    "\n",
    "data_for_input = data.drop([\"PassengerId\", \"Name\", \"Cabin\", \"deck\", \"side\", \"HomePlanet\",'Destination'], axis=1)\n",
    "\n",
    "#Separação atributos(X) e target(y):\n",
    "y_for_imputer = data_for_input.loc[:,\"Transported\"]\n",
    "X_for_imputer = data_for_input.drop([\"Transported\"], axis=1)"
   ]
  },
  {
   "cell_type": "code",
   "execution_count": 28,
   "metadata": {},
   "outputs": [],
   "source": [
    "from sklearn.ensemble import RandomForestRegressor\n",
    "\n",
    "# Imputers\n",
    "from sklearn.experimental import enable_iterative_imputer\n",
    "from sklearn.impute import SimpleImputer, KNNImputer, IterativeImputer\n",
    "from sklearn.model_selection import cross_val_score\n",
    "from sklearn.pipeline import make_pipeline\n",
    "\n",
    "# Definindo o número de cortes para o CrossValidation\n",
    "N_SPLITS = 4\n",
    "# Criando o nosso regressor com a seed randômica configurada acima:\n",
    "regressor = RandomForestRegressor(random_state=RAND_SEED)"
   ]
  },
  {
   "cell_type": "markdown",
   "metadata": {},
   "source": [
    "A função abaixo será criada com o intuito de calcular os scores de cada um dos modelos de *Imputer*"
   ]
  },
  {
   "cell_type": "code",
   "execution_count": 29,
   "metadata": {},
   "outputs": [],
   "source": [
    "def get_scores_for_imputer(imputer, X, y):\n",
    "    estimator = make_pipeline(imputer, regressor)\n",
    "    impute_scores = cross_val_score(\n",
    "        estimator, X, y, scoring=\"neg_mean_squared_error\", cv=N_SPLITS\n",
    "    )\n",
    "    return impute_scores"
   ]
  },
  {
   "cell_type": "code",
   "execution_count": 30,
   "metadata": {},
   "outputs": [],
   "source": [
    "# Simple Imputer:\n",
    "def get_impute_simple_score(X, y):\n",
    "    imputer = SimpleImputer(missing_values=np.nan, strategy=\"most_frequent\")\n",
    "    mean_impute_scores = get_scores_for_imputer(imputer, X, y)\n",
    "    return mean_impute_scores.mean(), mean_impute_scores.std(), mean_impute_scores\n",
    "\n",
    "# Interactive Imputer:\n",
    "def get_impute_iterative_score(X, y):\n",
    "    imputer = IterativeImputer(\n",
    "        missing_values=np.nan,\n",
    "        add_indicator=True,\n",
    "        random_state=0,\n",
    "        n_nearest_features=3,\n",
    "        max_iter=1,\n",
    "        sample_posterior=True,\n",
    "    )\n",
    "    iterative_impute_scores = get_scores_for_imputer(imputer, X, y)\n",
    "    return iterative_impute_scores.mean(), iterative_impute_scores.std(), iterative_impute_scores\n",
    "\n",
    "# KNN Imputer:\n",
    "def get_impute_knn_score(X, y):\n",
    "    imputer = KNNImputer(missing_values=np.nan, add_indicator=True)\n",
    "    knn_impute_scores = get_scores_for_imputer(imputer, X, y)\n",
    "    return knn_impute_scores.mean(), knn_impute_scores.std(), knn_impute_scores"
   ]
  },
  {
   "cell_type": "code",
   "execution_count": 31,
   "metadata": {},
   "outputs": [],
   "source": [
    "# Criando as listas\n",
    "x_labels = []\n",
    "\n",
    "score_mean_list = np.zeros(3)\n",
    "score_std_list = np.zeros(3)\n",
    "\n",
    "## Aplicando os Testes:\n",
    "# Simple Imputer\n",
    "score_mean_list[0], score_std_list[0], simple_score = get_impute_simple_score(X_for_imputer, y_for_imputer)\n",
    "x_labels.append(\"Simple Imputer\")\n",
    "\n",
    "# Interactive Imputer:\n",
    "score_mean_list[1], score_std_list[1], interactive_score = get_impute_iterative_score(X_for_imputer, y_for_imputer)\n",
    "x_labels.append(\"Interactive Imputer\")\n",
    "\n",
    "# KNN Imputer:\n",
    "score_mean_list[2], score_std_list[2], knn_score = get_impute_knn_score(X_for_imputer, y_for_imputer)\n",
    "x_labels.append(\"KNN Imputer\")"
   ]
  },
  {
   "cell_type": "markdown",
   "metadata": {},
   "source": [
    "## <b>Gráfico</b>\n",
    "\n",
    "Abaixo, será plotado o gráfico com os scores de cada um dos modelos de *Imputer*, sendo possível ao fim, selecionar o melhor modelo para aplicar na base de dados."
   ]
  },
  {
   "cell_type": "code",
   "execution_count": 32,
   "metadata": {},
   "outputs": [
    {
     "data": {
      "image/png": "[encoded data removed]",
      "text/plain": [
       "<Figure size 864x432 with 1 Axes>"
      ]
     },
     "metadata": {
      "needs_background": "light"
     },
     "output_type": "display_data"
    }
   ],
   "source": [
    "n_bars = len(score_mean_list)\n",
    "xval = np.arange(n_bars)\n",
    "\n",
    "colors = [\"r\", \"g\", \"orange\"]\n",
    "\n",
    "# Invertendo o valor das médias para torná-las positivas:\n",
    "score_mean_list = score_mean_list*-1\n",
    "\n",
    "# Plotando os Resultados\n",
    "plt.figure(figsize=(12, 6))\n",
    "ax1 = plt.subplot(121)\n",
    "for j in xval:\n",
    "    ax1.barh(\n",
    "        j,\n",
    "        score_mean_list[j],\n",
    "        xerr=score_std_list[j],\n",
    "        color=colors[j],\n",
    "        alpha=0.6,\n",
    "        align=\"center\",\n",
    "    )\n",
    "\n",
    "ax1.set_title(\"Score dos Imputer [menor melhor]\")\n",
    "ax1.set_xlim(left=np.min(score_mean_list) * 0.9, right=np.max(score_mean_list) * 1.1)\n",
    "ax1.set_yticks(xval)\n",
    "ax1.set_xlabel(\"RMSE\")\n",
    "ax1.invert_yaxis()\n",
    "ax1.set_yticklabels(x_labels)\n",
    "\n",
    "\n",
    "plt.show()"
   ]
  },
  {
   "cell_type": "code",
   "execution_count": 33,
   "metadata": {},
   "outputs": [
    {
     "data": {
      "image/png": "[encoded data removed]",
      "text/plain": [
       "<Figure size 432x288 with 1 Axes>"
      ]
     },
     "metadata": {
      "needs_background": "light"
     },
     "output_type": "display_data"
    }
   ],
   "source": [
    "score_mean_list\n",
    "pd.DataFrame({\n",
    "    'KNN Imputer': knn_score,\n",
    "    'Interactive Imputer': interactive_score,\n",
    "}).plot.box(\n",
    "    xlabel='',\n",
    "    ylabel=r'Scores',\n",
    "    figsize=(6, 4),\n",
    ");"
   ]
  },
  {
   "cell_type": "markdown",
   "metadata": {},
   "source": [
    "## Resultado\n",
    "\n",
    "Como é possível observar nos gráficos acima, o modelo de imputer com menor erro e melhor performance é o KNN Imputer. Logo, esse será o método utilizado abaixo para a aplicação final na base de dados original do projeto."
   ]
  },
  {
   "cell_type": "code",
   "execution_count": 34,
   "metadata": {},
   "outputs": [
    {
     "data": {
      "text/plain": [
       "array([[0.000e+00, 3.900e+01, 0.000e+00, ..., 0.000e+00, 0.000e+00,\n",
       "        0.000e+00],\n",
       "       [0.000e+00, 2.400e+01, 0.000e+00, ..., 5.490e+02, 4.400e+01,\n",
       "        0.000e+00],\n",
       "       [0.000e+00, 5.800e+01, 1.000e+00, ..., 6.715e+03, 4.900e+01,\n",
       "        0.000e+00],\n",
       "       ...,\n",
       "       [0.000e+00, 2.600e+01, 0.000e+00, ..., 1.000e+00, 0.000e+00,\n",
       "        1.500e+03],\n",
       "       [0.000e+00, 3.200e+01, 0.000e+00, ..., 3.530e+02, 3.235e+03,\n",
       "        6.080e+02],\n",
       "       [0.000e+00, 4.400e+01, 0.000e+00, ..., 0.000e+00, 1.200e+01,\n",
       "        6.080e+02]])"
      ]
     },
     "execution_count": 34,
     "metadata": {},
     "output_type": "execute_result"
    }
   ],
   "source": [
    "imputer = KNNImputer(missing_values=np.nan)\n",
    "X_tratado = imputer.fit_transform(X_for_imputer)\n",
    "\n",
    "X_tratado"
   ]
  },
  {
   "cell_type": "code",
   "execution_count": 35,
   "metadata": {},
   "outputs": [
    {
     "data": {
      "text/html": [
       "<div>\n",
       "<style scoped>\n",
       "    .dataframe tbody tr th:only-of-type {\n",
       "        vertical-align: middle;\n",
       "    }\n",
       "\n",
       "    .dataframe tbody tr th {\n",
       "        vertical-align: top;\n",
       "    }\n",
       "\n",
       "    .dataframe thead th {\n",
       "        text-align: right;\n",
       "    }\n",
       "</style>\n",
       "<table border=\"1\" class=\"dataframe\">\n",
       "  <thead>\n",
       "    <tr style=\"text-align: right;\">\n",
       "      <th></th>\n",
       "      <th>CryoSleep</th>\n",
       "      <th>Age</th>\n",
       "      <th>VIP</th>\n",
       "      <th>RoomService</th>\n",
       "      <th>FoodCourt</th>\n",
       "      <th>ShoppingMall</th>\n",
       "      <th>Spa</th>\n",
       "      <th>VRDeck</th>\n",
       "      <th>num</th>\n",
       "    </tr>\n",
       "  </thead>\n",
       "  <tbody>\n",
       "    <tr>\n",
       "      <th>0</th>\n",
       "      <td>0.0</td>\n",
       "      <td>39.0</td>\n",
       "      <td>0.0</td>\n",
       "      <td>0.0</td>\n",
       "      <td>0.0</td>\n",
       "      <td>0.0</td>\n",
       "      <td>0.0</td>\n",
       "      <td>0.0</td>\n",
       "      <td>0.0</td>\n",
       "    </tr>\n",
       "    <tr>\n",
       "      <th>1</th>\n",
       "      <td>0.0</td>\n",
       "      <td>24.0</td>\n",
       "      <td>0.0</td>\n",
       "      <td>109.0</td>\n",
       "      <td>9.0</td>\n",
       "      <td>25.0</td>\n",
       "      <td>549.0</td>\n",
       "      <td>44.0</td>\n",
       "      <td>0.0</td>\n",
       "    </tr>\n",
       "    <tr>\n",
       "      <th>2</th>\n",
       "      <td>0.0</td>\n",
       "      <td>58.0</td>\n",
       "      <td>1.0</td>\n",
       "      <td>43.0</td>\n",
       "      <td>3576.0</td>\n",
       "      <td>0.0</td>\n",
       "      <td>6715.0</td>\n",
       "      <td>49.0</td>\n",
       "      <td>0.0</td>\n",
       "    </tr>\n",
       "    <tr>\n",
       "      <th>3</th>\n",
       "      <td>0.0</td>\n",
       "      <td>33.0</td>\n",
       "      <td>0.0</td>\n",
       "      <td>0.0</td>\n",
       "      <td>1283.0</td>\n",
       "      <td>371.0</td>\n",
       "      <td>3329.0</td>\n",
       "      <td>193.0</td>\n",
       "      <td>0.0</td>\n",
       "    </tr>\n",
       "    <tr>\n",
       "      <th>4</th>\n",
       "      <td>0.0</td>\n",
       "      <td>16.0</td>\n",
       "      <td>0.0</td>\n",
       "      <td>303.0</td>\n",
       "      <td>70.0</td>\n",
       "      <td>151.0</td>\n",
       "      <td>565.0</td>\n",
       "      <td>2.0</td>\n",
       "      <td>1.0</td>\n",
       "    </tr>\n",
       "    <tr>\n",
       "      <th>...</th>\n",
       "      <td>...</td>\n",
       "      <td>...</td>\n",
       "      <td>...</td>\n",
       "      <td>...</td>\n",
       "      <td>...</td>\n",
       "      <td>...</td>\n",
       "      <td>...</td>\n",
       "      <td>...</td>\n",
       "      <td>...</td>\n",
       "    </tr>\n",
       "    <tr>\n",
       "      <th>8688</th>\n",
       "      <td>0.0</td>\n",
       "      <td>41.0</td>\n",
       "      <td>1.0</td>\n",
       "      <td>0.0</td>\n",
       "      <td>6819.0</td>\n",
       "      <td>0.0</td>\n",
       "      <td>1643.0</td>\n",
       "      <td>74.0</td>\n",
       "      <td>98.0</td>\n",
       "    </tr>\n",
       "    <tr>\n",
       "      <th>8689</th>\n",
       "      <td>1.0</td>\n",
       "      <td>18.0</td>\n",
       "      <td>0.0</td>\n",
       "      <td>0.0</td>\n",
       "      <td>0.0</td>\n",
       "      <td>0.0</td>\n",
       "      <td>0.0</td>\n",
       "      <td>0.0</td>\n",
       "      <td>1499.0</td>\n",
       "    </tr>\n",
       "    <tr>\n",
       "      <th>8690</th>\n",
       "      <td>0.0</td>\n",
       "      <td>26.0</td>\n",
       "      <td>0.0</td>\n",
       "      <td>0.0</td>\n",
       "      <td>0.0</td>\n",
       "      <td>1872.0</td>\n",
       "      <td>1.0</td>\n",
       "      <td>0.0</td>\n",
       "      <td>1500.0</td>\n",
       "    </tr>\n",
       "    <tr>\n",
       "      <th>8691</th>\n",
       "      <td>0.0</td>\n",
       "      <td>32.0</td>\n",
       "      <td>0.0</td>\n",
       "      <td>0.0</td>\n",
       "      <td>1049.0</td>\n",
       "      <td>0.0</td>\n",
       "      <td>353.0</td>\n",
       "      <td>3235.0</td>\n",
       "      <td>608.0</td>\n",
       "    </tr>\n",
       "    <tr>\n",
       "      <th>8692</th>\n",
       "      <td>0.0</td>\n",
       "      <td>44.0</td>\n",
       "      <td>0.0</td>\n",
       "      <td>126.0</td>\n",
       "      <td>4688.0</td>\n",
       "      <td>0.0</td>\n",
       "      <td>0.0</td>\n",
       "      <td>12.0</td>\n",
       "      <td>608.0</td>\n",
       "    </tr>\n",
       "  </tbody>\n",
       "</table>\n",
       "<p>8693 rows × 9 columns</p>\n",
       "</div>"
      ],
      "text/plain": [
       "      CryoSleep   Age  VIP  RoomService  FoodCourt  ShoppingMall     Spa  \\\n",
       "0           0.0  39.0  0.0          0.0        0.0           0.0     0.0   \n",
       "1           0.0  24.0  0.0        109.0        9.0          25.0   549.0   \n",
       "2           0.0  58.0  1.0         43.0     3576.0           0.0  6715.0   \n",
       "3           0.0  33.0  0.0          0.0     1283.0         371.0  3329.0   \n",
       "4           0.0  16.0  0.0        303.0       70.0         151.0   565.0   \n",
       "...         ...   ...  ...          ...        ...           ...     ...   \n",
       "8688        0.0  41.0  1.0          0.0     6819.0           0.0  1643.0   \n",
       "8689        1.0  18.0  0.0          0.0        0.0           0.0     0.0   \n",
       "8690        0.0  26.0  0.0          0.0        0.0        1872.0     1.0   \n",
       "8691        0.0  32.0  0.0          0.0     1049.0           0.0   353.0   \n",
       "8692        0.0  44.0  0.0        126.0     4688.0           0.0     0.0   \n",
       "\n",
       "      VRDeck     num  \n",
       "0        0.0     0.0  \n",
       "1       44.0     0.0  \n",
       "2       49.0     0.0  \n",
       "3      193.0     0.0  \n",
       "4        2.0     1.0  \n",
       "...      ...     ...  \n",
       "8688    74.0    98.0  \n",
       "8689     0.0  1499.0  \n",
       "8690     0.0  1500.0  \n",
       "8691  3235.0   608.0  \n",
       "8692    12.0   608.0  \n",
       "\n",
       "[8693 rows x 9 columns]"
      ]
     },
     "execution_count": 35,
     "metadata": {},
     "output_type": "execute_result"
    }
   ],
   "source": [
    "X_tratado = pd.DataFrame(X_tratado, columns=X_for_imputer.columns)\n",
    "X_tratado.loc[(X_tratado[\"VIP\"] == 0.2) | (X_tratado[\"VIP\"] == 0.4), [\"VIP\"]] = 0\n",
    "X_tratado.loc[(X_tratado[\"CryoSleep\"] == 0.2) | (X_tratado[\"CryoSleep\"] == 0.4) | (X_tratado[\"CryoSleep\"] == 0.6) | (X_tratado[\"CryoSleep\"] == 0.8), [\"CryoSleep\"]] = 0\n",
    "X_tratado"
   ]
  },
  {
   "cell_type": "code",
   "execution_count": 36,
   "metadata": {},
   "outputs": [
    {
     "data": {
      "text/html": [
       "<div>\n",
       "<style scoped>\n",
       "    .dataframe tbody tr th:only-of-type {\n",
       "        vertical-align: middle;\n",
       "    }\n",
       "\n",
       "    .dataframe tbody tr th {\n",
       "        vertical-align: top;\n",
       "    }\n",
       "\n",
       "    .dataframe thead th {\n",
       "        text-align: right;\n",
       "    }\n",
       "</style>\n",
       "<table border=\"1\" class=\"dataframe\">\n",
       "  <thead>\n",
       "    <tr style=\"text-align: right;\">\n",
       "      <th></th>\n",
       "      <th>CryoSleep</th>\n",
       "      <th>Age</th>\n",
       "      <th>VIP</th>\n",
       "      <th>RoomService</th>\n",
       "      <th>FoodCourt</th>\n",
       "      <th>ShoppingMall</th>\n",
       "      <th>Spa</th>\n",
       "      <th>VRDeck</th>\n",
       "      <th>num</th>\n",
       "      <th>Name</th>\n",
       "      <th>Cabin</th>\n",
       "      <th>deck</th>\n",
       "      <th>side</th>\n",
       "      <th>HomePlanet</th>\n",
       "      <th>Destination</th>\n",
       "    </tr>\n",
       "  </thead>\n",
       "  <tbody>\n",
       "    <tr>\n",
       "      <th>0</th>\n",
       "      <td>0.0</td>\n",
       "      <td>39.0</td>\n",
       "      <td>0.0</td>\n",
       "      <td>0.0</td>\n",
       "      <td>0.0</td>\n",
       "      <td>0.0</td>\n",
       "      <td>0.0</td>\n",
       "      <td>0.0</td>\n",
       "      <td>0.0</td>\n",
       "      <td>Maham Ofracculy</td>\n",
       "      <td>B/0/P</td>\n",
       "      <td>B</td>\n",
       "      <td>P</td>\n",
       "      <td>Europa</td>\n",
       "      <td>TRAPPIST-1e</td>\n",
       "    </tr>\n",
       "    <tr>\n",
       "      <th>1</th>\n",
       "      <td>0.0</td>\n",
       "      <td>24.0</td>\n",
       "      <td>0.0</td>\n",
       "      <td>109.0</td>\n",
       "      <td>9.0</td>\n",
       "      <td>25.0</td>\n",
       "      <td>549.0</td>\n",
       "      <td>44.0</td>\n",
       "      <td>0.0</td>\n",
       "      <td>Juanna Vines</td>\n",
       "      <td>F/0/S</td>\n",
       "      <td>F</td>\n",
       "      <td>S</td>\n",
       "      <td>Earth</td>\n",
       "      <td>TRAPPIST-1e</td>\n",
       "    </tr>\n",
       "    <tr>\n",
       "      <th>2</th>\n",
       "      <td>0.0</td>\n",
       "      <td>58.0</td>\n",
       "      <td>1.0</td>\n",
       "      <td>43.0</td>\n",
       "      <td>3576.0</td>\n",
       "      <td>0.0</td>\n",
       "      <td>6715.0</td>\n",
       "      <td>49.0</td>\n",
       "      <td>0.0</td>\n",
       "      <td>Altark Susent</td>\n",
       "      <td>A/0/S</td>\n",
       "      <td>A</td>\n",
       "      <td>S</td>\n",
       "      <td>Europa</td>\n",
       "      <td>TRAPPIST-1e</td>\n",
       "    </tr>\n",
       "    <tr>\n",
       "      <th>3</th>\n",
       "      <td>0.0</td>\n",
       "      <td>33.0</td>\n",
       "      <td>0.0</td>\n",
       "      <td>0.0</td>\n",
       "      <td>1283.0</td>\n",
       "      <td>371.0</td>\n",
       "      <td>3329.0</td>\n",
       "      <td>193.0</td>\n",
       "      <td>0.0</td>\n",
       "      <td>Solam Susent</td>\n",
       "      <td>A/0/S</td>\n",
       "      <td>A</td>\n",
       "      <td>S</td>\n",
       "      <td>Europa</td>\n",
       "      <td>TRAPPIST-1e</td>\n",
       "    </tr>\n",
       "    <tr>\n",
       "      <th>4</th>\n",
       "      <td>0.0</td>\n",
       "      <td>16.0</td>\n",
       "      <td>0.0</td>\n",
       "      <td>303.0</td>\n",
       "      <td>70.0</td>\n",
       "      <td>151.0</td>\n",
       "      <td>565.0</td>\n",
       "      <td>2.0</td>\n",
       "      <td>1.0</td>\n",
       "      <td>Willy Santantines</td>\n",
       "      <td>F/1/S</td>\n",
       "      <td>F</td>\n",
       "      <td>S</td>\n",
       "      <td>Earth</td>\n",
       "      <td>TRAPPIST-1e</td>\n",
       "    </tr>\n",
       "    <tr>\n",
       "      <th>...</th>\n",
       "      <td>...</td>\n",
       "      <td>...</td>\n",
       "      <td>...</td>\n",
       "      <td>...</td>\n",
       "      <td>...</td>\n",
       "      <td>...</td>\n",
       "      <td>...</td>\n",
       "      <td>...</td>\n",
       "      <td>...</td>\n",
       "      <td>...</td>\n",
       "      <td>...</td>\n",
       "      <td>...</td>\n",
       "      <td>...</td>\n",
       "      <td>...</td>\n",
       "      <td>...</td>\n",
       "    </tr>\n",
       "    <tr>\n",
       "      <th>8688</th>\n",
       "      <td>0.0</td>\n",
       "      <td>41.0</td>\n",
       "      <td>1.0</td>\n",
       "      <td>0.0</td>\n",
       "      <td>6819.0</td>\n",
       "      <td>0.0</td>\n",
       "      <td>1643.0</td>\n",
       "      <td>74.0</td>\n",
       "      <td>98.0</td>\n",
       "      <td>Gravior Noxnuther</td>\n",
       "      <td>A/98/P</td>\n",
       "      <td>A</td>\n",
       "      <td>P</td>\n",
       "      <td>Europa</td>\n",
       "      <td>55 Cancri e</td>\n",
       "    </tr>\n",
       "    <tr>\n",
       "      <th>8689</th>\n",
       "      <td>1.0</td>\n",
       "      <td>18.0</td>\n",
       "      <td>0.0</td>\n",
       "      <td>0.0</td>\n",
       "      <td>0.0</td>\n",
       "      <td>0.0</td>\n",
       "      <td>0.0</td>\n",
       "      <td>0.0</td>\n",
       "      <td>1499.0</td>\n",
       "      <td>Kurta Mondalley</td>\n",
       "      <td>G/1499/S</td>\n",
       "      <td>G</td>\n",
       "      <td>S</td>\n",
       "      <td>Earth</td>\n",
       "      <td>PSO J318.5-22</td>\n",
       "    </tr>\n",
       "    <tr>\n",
       "      <th>8690</th>\n",
       "      <td>0.0</td>\n",
       "      <td>26.0</td>\n",
       "      <td>0.0</td>\n",
       "      <td>0.0</td>\n",
       "      <td>0.0</td>\n",
       "      <td>1872.0</td>\n",
       "      <td>1.0</td>\n",
       "      <td>0.0</td>\n",
       "      <td>1500.0</td>\n",
       "      <td>Fayey Connon</td>\n",
       "      <td>G/1500/S</td>\n",
       "      <td>G</td>\n",
       "      <td>S</td>\n",
       "      <td>Earth</td>\n",
       "      <td>TRAPPIST-1e</td>\n",
       "    </tr>\n",
       "    <tr>\n",
       "      <th>8691</th>\n",
       "      <td>0.0</td>\n",
       "      <td>32.0</td>\n",
       "      <td>0.0</td>\n",
       "      <td>0.0</td>\n",
       "      <td>1049.0</td>\n",
       "      <td>0.0</td>\n",
       "      <td>353.0</td>\n",
       "      <td>3235.0</td>\n",
       "      <td>608.0</td>\n",
       "      <td>Celeon Hontichre</td>\n",
       "      <td>E/608/S</td>\n",
       "      <td>E</td>\n",
       "      <td>S</td>\n",
       "      <td>Europa</td>\n",
       "      <td>55 Cancri e</td>\n",
       "    </tr>\n",
       "    <tr>\n",
       "      <th>8692</th>\n",
       "      <td>0.0</td>\n",
       "      <td>44.0</td>\n",
       "      <td>0.0</td>\n",
       "      <td>126.0</td>\n",
       "      <td>4688.0</td>\n",
       "      <td>0.0</td>\n",
       "      <td>0.0</td>\n",
       "      <td>12.0</td>\n",
       "      <td>608.0</td>\n",
       "      <td>Propsh Hontichre</td>\n",
       "      <td>E/608/S</td>\n",
       "      <td>E</td>\n",
       "      <td>S</td>\n",
       "      <td>Europa</td>\n",
       "      <td>TRAPPIST-1e</td>\n",
       "    </tr>\n",
       "  </tbody>\n",
       "</table>\n",
       "<p>8693 rows × 15 columns</p>\n",
       "</div>"
      ],
      "text/plain": [
       "      CryoSleep   Age  VIP  RoomService  FoodCourt  ShoppingMall     Spa  \\\n",
       "0           0.0  39.0  0.0          0.0        0.0           0.0     0.0   \n",
       "1           0.0  24.0  0.0        109.0        9.0          25.0   549.0   \n",
       "2           0.0  58.0  1.0         43.0     3576.0           0.0  6715.0   \n",
       "3           0.0  33.0  0.0          0.0     1283.0         371.0  3329.0   \n",
       "4           0.0  16.0  0.0        303.0       70.0         151.0   565.0   \n",
       "...         ...   ...  ...          ...        ...           ...     ...   \n",
       "8688        0.0  41.0  1.0          0.0     6819.0           0.0  1643.0   \n",
       "8689        1.0  18.0  0.0          0.0        0.0           0.0     0.0   \n",
       "8690        0.0  26.0  0.0          0.0        0.0        1872.0     1.0   \n",
       "8691        0.0  32.0  0.0          0.0     1049.0           0.0   353.0   \n",
       "8692        0.0  44.0  0.0        126.0     4688.0           0.0     0.0   \n",
       "\n",
       "      VRDeck     num               Name     Cabin deck side HomePlanet  \\\n",
       "0        0.0     0.0    Maham Ofracculy     B/0/P    B    P     Europa   \n",
       "1       44.0     0.0       Juanna Vines     F/0/S    F    S      Earth   \n",
       "2       49.0     0.0      Altark Susent     A/0/S    A    S     Europa   \n",
       "3      193.0     0.0       Solam Susent     A/0/S    A    S     Europa   \n",
       "4        2.0     1.0  Willy Santantines     F/1/S    F    S      Earth   \n",
       "...      ...     ...                ...       ...  ...  ...        ...   \n",
       "8688    74.0    98.0  Gravior Noxnuther    A/98/P    A    P     Europa   \n",
       "8689     0.0  1499.0    Kurta Mondalley  G/1499/S    G    S      Earth   \n",
       "8690     0.0  1500.0       Fayey Connon  G/1500/S    G    S      Earth   \n",
       "8691  3235.0   608.0   Celeon Hontichre   E/608/S    E    S     Europa   \n",
       "8692    12.0   608.0   Propsh Hontichre   E/608/S    E    S     Europa   \n",
       "\n",
       "        Destination  \n",
       "0       TRAPPIST-1e  \n",
       "1       TRAPPIST-1e  \n",
       "2       TRAPPIST-1e  \n",
       "3       TRAPPIST-1e  \n",
       "4       TRAPPIST-1e  \n",
       "...             ...  \n",
       "8688    55 Cancri e  \n",
       "8689  PSO J318.5-22  \n",
       "8690    TRAPPIST-1e  \n",
       "8691    55 Cancri e  \n",
       "8692    TRAPPIST-1e  \n",
       "\n",
       "[8693 rows x 15 columns]"
      ]
     },
     "execution_count": 36,
     "metadata": {},
     "output_type": "execute_result"
    }
   ],
   "source": [
    "data_y_train = data[\"Transported\"]\n",
    "temp = data.drop([\"PassengerId\", \"Transported\"], axis=1)\n",
    "data_important = temp.loc[:, [\"Name\", \"Cabin\", \"deck\", \"side\", \"HomePlanet\",'Destination']]\n",
    "data_tratado = pd.concat([X_tratado, data_important], axis=1)\n",
    "data_tratado"
   ]
  },
  {
   "cell_type": "code",
   "execution_count": 37,
   "metadata": {},
   "outputs": [
    {
     "name": "stdout",
     "output_type": "stream",
     "text": [
      "<class 'pandas.core.frame.DataFrame'>\n",
      "RangeIndex: 8693 entries, 0 to 8692\n",
      "Data columns (total 39 columns):\n",
      " #   Column            Non-Null Count  Dtype  \n",
      "---  ------            --------------  -----  \n",
      " 0   CryoSleep         8693 non-null   float64\n",
      " 1   Age               8693 non-null   float64\n",
      " 2   VIP               8693 non-null   float64\n",
      " 3   RoomService       8693 non-null   float64\n",
      " 4   FoodCourt         8693 non-null   float64\n",
      " 5   ShoppingMall      8693 non-null   float64\n",
      " 6   Spa               8693 non-null   float64\n",
      " 7   VRDeck            8693 non-null   float64\n",
      " 8   num               8693 non-null   float64\n",
      " 9   Name              8493 non-null   object \n",
      " 10  Cabin             8494 non-null   object \n",
      " 11  deck              8494 non-null   object \n",
      " 12  side              8494 non-null   object \n",
      " 13  HomePlanet        8492 non-null   object \n",
      " 14  Destination       8511 non-null   object \n",
      " 15  x0_Earth          8693 non-null   float64\n",
      " 16  x0_Europa         8693 non-null   float64\n",
      " 17  x0_Mars           8693 non-null   float64\n",
      " 18  x0_NaN            8693 non-null   float64\n",
      " 19  x1_0.0            8693 non-null   float64\n",
      " 20  x1_1.0            8693 non-null   float64\n",
      " 21  x2_55 Cancri e    8693 non-null   float64\n",
      " 22  x2_NaN            8693 non-null   float64\n",
      " 23  x2_PSO J318.5-22  8693 non-null   float64\n",
      " 24  x2_TRAPPIST-1e    8693 non-null   float64\n",
      " 25  x3_0.0            8693 non-null   float64\n",
      " 26  x3_1.0            8693 non-null   float64\n",
      " 27  x4_A              8693 non-null   float64\n",
      " 28  x4_B              8693 non-null   float64\n",
      " 29  x4_C              8693 non-null   float64\n",
      " 30  x4_D              8693 non-null   float64\n",
      " 31  x4_E              8693 non-null   float64\n",
      " 32  x4_F              8693 non-null   float64\n",
      " 33  x4_G              8693 non-null   float64\n",
      " 34  x4_NaN            8693 non-null   float64\n",
      " 35  x4_T              8693 non-null   float64\n",
      " 36  x5_NaN            8693 non-null   float64\n",
      " 37  x5_P              8693 non-null   float64\n",
      " 38  x5_S              8693 non-null   float64\n",
      "dtypes: float64(33), object(6)\n",
      "memory usage: 2.6+ MB\n"
     ]
    },
    {
     "name": "stderr",
     "output_type": "stream",
     "text": [
      "C:\\ProgramData\\Anaconda3\\lib\\site-packages\\sklearn\\utils\\deprecation.py:87: FutureWarning: Function get_feature_names is deprecated; get_feature_names is deprecated in 1.0 and will be removed in 1.2. Please use get_feature_names_out instead.\n",
      "  warnings.warn(msg, category=FutureWarning)\n"
     ]
    }
   ],
   "source": [
    "from sklearn.preprocessing import OneHotEncoder\n",
    "\n",
    "data_cat = data_tratado.loc[:, [\"HomePlanet\", \"CryoSleep\", \"Destination\", \"VIP\", \"deck\", \"side\"]]\n",
    "data_cat = data_cat.fillna(\"NaN\")\n",
    "\n",
    "meu_one_hot_encoder = OneHotEncoder(sparse=False, handle_unknown='ignore')\n",
    "meu_one_hot_encoder.fit_transform(data_cat)\n",
    "\n",
    "\n",
    "# concat data_cat with data\n",
    "data_encoded = pd.concat([data_tratado, pd.DataFrame(meu_one_hot_encoder.fit_transform(data_cat), columns=meu_one_hot_encoder.get_feature_names())], axis=1)\n",
    "data_encoded.info()"
   ]
  },
  {
   "cell_type": "markdown",
   "metadata": {},
   "source": [
    "# <b> Aplicando Classificadores </b>\n",
    "***\n",
    "\n",
    "Agora que os dados estão completos, baseado no método de `Cross Validation` serão escolhidos entre alguns classificadores aquele em que a acurácia é a maior ao classificar o Treino. Os Classificadores explorados serão:\n",
    "\n",
    "- [Decision Tree](https://scikit-learn.org/stable/modules/generated/sklearn.tree.DecisionTreeClassifier.html)\n",
    "- [Random Forest](https://scikit-learn.org/stable/modules/generated/sklearn.ensemble.RandomForestClassifier.html)\n",
    "- [Logistic Regression](https://scikit-learn.org/stable/modules/generated/sklearn.linear_model.LogisticRegression.html)\n",
    "- [SGD](https://scikit-learn.org/stable/modules/generated/sklearn.linear_model.SGDClassifier.html)\n",
    "- [KNN Classifier](https://scikit-learn.org/stable/modules/generated/sklearn.neighbors.KNeighborsClassifier.html)\n",
    "- [Naive Bayes - variação multinomial](https://scikit-learn.org/stable/modules/naive_bayes.html)\n",
    "- [XG Boost](https://xgboost.readthedocs.io/en/stable/python/python_api.html)\n",
    "- [Gradient Boosting Classifier](https://scikit-learn.org/stable/modules/generated/sklearn.ensemble.GradientBoostingClassifier.html)\n",
    "- [Light Gradient Boosting Machine Classifier](https://lightgbm.readthedocs.io/en/latest/pythonapi/lightgbm.LGBMClassifier.html)\n",
    "\n",
    "Foram escolhidos baseados naqueles estudados nas aulas de _Machine Learning_ e em outros classificadores famosos disponíveis na biblioteca, que são escolhidos como alguns dos melhores.\n",
    "\n",
    "Primeiramente, serão criadas as funções que retornaram os resultados do `Cross Validation` de todos os Classificadores, mas agora com o scoring baseado na **acurácia**."
   ]
  },
  {
   "cell_type": "markdown",
   "metadata": {},
   "source": [
    "## Classificador Decision Tree\n",
    "\n",
    "O classificador Decision Tree é um classificador que utiliza uma árvore de decisão para classificar os dados. A árvore de decisão é uma estrutura de dados que é composta por nós e folhas, onde cada nó representa uma decisão e cada folha representa uma classe. Cada nó possui um valor de decisão, que é o valor que será comparado com o valor da variável que está sendo analisada. Quando o nó chega em uma folha, ele é classificado como a classe daquela folha.\n",
    "\n",
    "Fonte: [Decision Tree](https://scikit-learn.org/stable/modules/tree.html)"
   ]
  },
  {
   "cell_type": "code",
   "execution_count": 38,
   "metadata": {},
   "outputs": [],
   "source": [
    "# Classificador Decision Tree:\n",
    "\n",
    "from sklearn.tree import DecisionTreeClassifier\n",
    "\n",
    "def get_classifier_DTree_score(X, y):\n",
    "    classifier = DecisionTreeClassifier(random_state=RAND_SEED)\n",
    "    return cross_val_score(classifier, X, y, cv=N_SPLITS, scoring=\"accuracy\", n_jobs=-1)"
   ]
  },
  {
   "cell_type": "markdown",
   "metadata": {},
   "source": [
    "## Classificador Random Forest\n",
    "\n",
    "O classificador Random Forest é um classificador que utiliza uma combinação de árvores de decisão para classificar os dados. Ao invés de utilizar apenas uma árvore de decisão, ele utiliza várias árvores e cada uma delas é treinada com uma parte dos dados. Ao final, o classificador Random Forest utiliza a combinação das árvores de decisão para classificar os dados.\n",
    "\n",
    "O parâmetro `n_estimators` é o número de árvores que serão utilizadas no classificador.\n",
    "\n",
    "Fonte: [https://scikit-learn.org/stable/modules/generated/sklearn.ensemble.RandomForestClassifier.html](https://scikit-learn.org/stable/modules/generated/sklearn.ensemble.RandomForestClassifier.html)"
   ]
  },
  {
   "cell_type": "code",
   "execution_count": 39,
   "metadata": {},
   "outputs": [],
   "source": [
    "# Classificador Random Forest:\n",
    "\n",
    "from sklearn.ensemble import RandomForestClassifier\n",
    "\n",
    "def get_classifier_RForest_score(X, y):\n",
    "    classifier = RandomForestClassifier(n_estimators=100, random_state=RAND_SEED)\n",
    "    return cross_val_score(classifier, X, y, cv=N_SPLITS, scoring=\"accuracy\", n_jobs=-1)"
   ]
  },
  {
   "cell_type": "markdown",
   "metadata": {},
   "source": [
    "## Regressão Logística\n",
    "\n",
    "Regressão logística é um método estatístico para prever classes binárias. O resultado ou variável alvo é dicotômico. Por exemplo, pode ser usado para problemas de detecção de câncer. Ele calcula a probabilidade de ocorrência de um evento acontecer ou não.\n",
    "\n",
    "Equação da Regressão Linear:\n",
    "\n",
    "$$y = \\beta_0 + \\beta_1x + \\beta_2x^2 + ... + \\beta_nx^{n}$$\n",
    "\n",
    "Onde $y$ é a variável dependente, $x$ é a variável independente e $\\beta$ é o coeficiente.\n",
    "\n",
    "\n",
    "Função de ativação: $$\\sigma(x) = \\frac{1}{1+e^{-x}}$$\n",
    "\n",
    "Aplicando a função de ativação na equação da regressão linear:\n",
    "\n",
    "$$\\sigma(y) = \\frac{1}{1+e^-({\\beta_0 + \\beta_1x + \\beta_2x^2 + ... + \\beta_nx^{n}})}$$\n",
    "\n",
    "Ao aplicar a função de ativação, o resultado será um valor entre 0 e 1, que representa a probabilidade de ocorrência do evento. Se o resultado for maior que 0.5, o evento ocorrerá, caso contrário, não ocorrerá, probabilisticamente.\n",
    "\n",
    "Fonte: [Understanding Logistic Regression in Python Tutorial](https://www.datacamp.com/tutorial/understanding-logistic-regression-python)\n"
   ]
  },
  {
   "cell_type": "code",
   "execution_count": 40,
   "metadata": {},
   "outputs": [],
   "source": [
    "from sklearn.linear_model import LogisticRegression\n",
    "# Classificador Regressão Logística:\n",
    "#     - por ser uma base reduzida usamos o solver: liblinear\n",
    "#     - por compatibilidade usaremis penalidade l1, mas poderia receber l2\n",
    "\n",
    "\n",
    "def get_classifier_Logistic_score(X, y):\n",
    "    classifier = LogisticRegression(\n",
    "        penalty='l1',\n",
    "        C=1000,\n",
    "        solver='liblinear',\n",
    "        multi_class='auto',\n",
    "        max_iter=1000,\n",
    "        random_state=RAND_SEED\n",
    "    )\n",
    "    return cross_val_score(classifier, X, y, cv=N_SPLITS, scoring=\"accuracy\", n_jobs=-1)"
   ]
  },
  {
   "cell_type": "markdown",
   "metadata": {},
   "source": [
    "## Classificador SGD\n",
    "\n",
    "O classificador SGD é um classificador que utiliza o método de descida de gradiente estocástico para classificar os dados. O método de descida de gradiente estocástico é um método que utiliza o gradiente para encontrar o mínimo de uma função. O método de descida de gradiente estocástico utiliza uma amostra única dos dados para calcular o gradiente. \n",
    "\n",
    "Equação do gradiente:\n",
    "\n",
    "$$\\nabla f(x) = \\frac{\\partial f(x)}{\\partial x}$$\n",
    "\n",
    "Equação da descida de gradiente estocástico:\n",
    "\n",
    "$$x_{t+1} = x_t - \\eta \\nabla f(x_t)$$\n",
    "\n",
    "Onde $x_t$ é o valor de $x$ na iteração $t$, $\\eta$ é a taxa de aprendizado e $\\nabla f(x_t)$ é o gradiente da função $f$ no valor $x_t$.\n",
    "\n",
    "A descida do gradiente é um dos algoritmos mais populares para realizar otimização e, de longe, a maneira mais comum de otimizar redes neurais.\n",
    "\n",
    "Parâmetros:\n",
    "\n",
    "- `max_iter`: número máximo de iterações.\n",
    "- `tol`: tolerância para o critério de parada.\n",
    "\n",
    "Fonte [Introduction to SGD Classifier](https://michael-fuchs-python.netlify.app/2019/11/11/introduction-to-sgd-classifier/)"
   ]
  },
  {
   "cell_type": "code",
   "execution_count": 41,
   "metadata": {},
   "outputs": [],
   "source": [
    "# Classificador SGD:\n",
    "\n",
    "from sklearn.linear_model import SGDClassifier\n",
    "\n",
    "def get_classifier_SGD_score(X, y):\n",
    "    classifier = SGDClassifier(\n",
    "        max_iter=500,\n",
    "        tol=1e-3,\n",
    "        random_state=RAND_SEED,\n",
    "        n_jobs=-1,\n",
    "    )\n",
    "    return cross_val_score(classifier, X, y, cv=N_SPLITS, scoring=\"accuracy\", n_jobs=-1)"
   ]
  },
  {
   "cell_type": "code",
   "execution_count": 42,
   "metadata": {},
   "outputs": [],
   "source": [
    "# Classificador KNN:\n",
    "\n",
    "from sklearn.neighbors import KNeighborsClassifier\n",
    "\n",
    "def get_classifier_KNN_score(X, y):\n",
    "    classifier = KNeighborsClassifier(n_neighbors=10, n_jobs=-1)\n",
    "    return cross_val_score(classifier, X, y, cv=N_SPLITS, scoring=\"accuracy\", n_jobs=-1)"
   ]
  },
  {
   "cell_type": "code",
   "execution_count": 43,
   "metadata": {},
   "outputs": [],
   "source": [
    "# Classificador MNB:\n",
    "\n",
    "from sklearn.naive_bayes import MultinomialNB\n",
    "\n",
    "def get_classifier_MNB_score(X, y):\n",
    "    classifier = MultinomialNB()\n",
    "    return cross_val_score(classifier, X, y, cv=N_SPLITS, scoring=\"accuracy\", n_jobs=-1)"
   ]
  },
  {
   "cell_type": "code",
   "execution_count": 44,
   "metadata": {},
   "outputs": [],
   "source": [
    "# Classificador XGBoost:\n",
    "\n",
    "import xgboost as xgb\n",
    "\n",
    "def get_classifier_xgboost_score(X, y):\n",
    "    classifier = xgb.XGBClassifier(random_state=RAND_SEED)\n",
    "    return cross_val_score(classifier, X, y, cv=N_SPLITS, scoring=\"accuracy\", n_jobs=-1) "
   ]
  },
  {
   "cell_type": "code",
   "execution_count": 45,
   "metadata": {},
   "outputs": [],
   "source": [
    "# Classificador GradientBoostingClassifier:\n",
    "\n",
    "from sklearn.ensemble import GradientBoostingClassifier\n",
    "\n",
    "def get_classifier_gbc_score(X, y):\n",
    "    classifier = GradientBoostingClassifier(random_state=RAND_SEED)\n",
    "    return cross_val_score(classifier, X, y, cv=N_SPLITS, scoring=\"accuracy\", n_jobs=-1) "
   ]
  },
  {
   "cell_type": "code",
   "execution_count": 46,
   "metadata": {},
   "outputs": [],
   "source": [
    "# Classificador LightGBM\n",
    "\n",
    "from lightgbm import LGBMClassifier\n",
    "\n",
    "def get_classifier_lgbm_score(X, y):\n",
    "    classifier =  LGBMClassifier(min_child_weight=0.8, \n",
    "                                 random_state=RAND_SEED, \n",
    "                                 n_estimators=600, \n",
    "                                 learning_rate = 0.01, \n",
    "                                 subsample=0.7, \n",
    "                                 subsample_freq=1, \n",
    "                                 colsample_bytree = 0.85)\n",
    "    return cross_val_score(classifier, X, y, cv=N_SPLITS, scoring=\"accuracy\", n_jobs=-1) "
   ]
  },
  {
   "cell_type": "markdown",
   "metadata": {},
   "source": [
    "Com todas as funções para cálculo da acurácia utilizando o `Cross Validation`, vamos, assim, calculá-las de fato:"
   ]
  },
  {
   "cell_type": "code",
   "execution_count": 47,
   "metadata": {},
   "outputs": [
    {
     "name": "stdout",
     "output_type": "stream",
     "text": [
      "<class 'pandas.core.frame.DataFrame'>\n",
      "RangeIndex: 8693 entries, 0 to 8692\n",
      "Data columns (total 39 columns):\n",
      " #   Column            Non-Null Count  Dtype  \n",
      "---  ------            --------------  -----  \n",
      " 0   CryoSleep         8693 non-null   float64\n",
      " 1   Age               8693 non-null   float64\n",
      " 2   VIP               8693 non-null   float64\n",
      " 3   RoomService       8693 non-null   float64\n",
      " 4   FoodCourt         8693 non-null   float64\n",
      " 5   ShoppingMall      8693 non-null   float64\n",
      " 6   Spa               8693 non-null   float64\n",
      " 7   VRDeck            8693 non-null   float64\n",
      " 8   num               8693 non-null   float64\n",
      " 9   Name              8493 non-null   object \n",
      " 10  Cabin             8494 non-null   object \n",
      " 11  deck              8494 non-null   object \n",
      " 12  side              8494 non-null   object \n",
      " 13  HomePlanet        8492 non-null   object \n",
      " 14  Destination       8511 non-null   object \n",
      " 15  x0_Earth          8693 non-null   float64\n",
      " 16  x0_Europa         8693 non-null   float64\n",
      " 17  x0_Mars           8693 non-null   float64\n",
      " 18  x0_NaN            8693 non-null   float64\n",
      " 19  x1_0.0            8693 non-null   float64\n",
      " 20  x1_1.0            8693 non-null   float64\n",
      " 21  x2_55 Cancri e    8693 non-null   float64\n",
      " 22  x2_NaN            8693 non-null   float64\n",
      " 23  x2_PSO J318.5-22  8693 non-null   float64\n",
      " 24  x2_TRAPPIST-1e    8693 non-null   float64\n",
      " 25  x3_0.0            8693 non-null   float64\n",
      " 26  x3_1.0            8693 non-null   float64\n",
      " 27  x4_A              8693 non-null   float64\n",
      " 28  x4_B              8693 non-null   float64\n",
      " 29  x4_C              8693 non-null   float64\n",
      " 30  x4_D              8693 non-null   float64\n",
      " 31  x4_E              8693 non-null   float64\n",
      " 32  x4_F              8693 non-null   float64\n",
      " 33  x4_G              8693 non-null   float64\n",
      " 34  x4_NaN            8693 non-null   float64\n",
      " 35  x4_T              8693 non-null   float64\n",
      " 36  x5_NaN            8693 non-null   float64\n",
      " 37  x5_P              8693 non-null   float64\n",
      " 38  x5_S              8693 non-null   float64\n",
      "dtypes: float64(33), object(6)\n",
      "memory usage: 2.6+ MB\n"
     ]
    }
   ],
   "source": [
    "data_encoded.info()"
   ]
  },
  {
   "cell_type": "markdown",
   "metadata": {},
   "source": []
  },
  {
   "cell_type": "code",
   "execution_count": 48,
   "metadata": {},
   "outputs": [],
   "source": [
    "# Criando as listas\n",
    "x_labels = []\n",
    "\n",
    "data_encoded_clean = data_encoded.drop([\"Name\", \"Age\", \"HomePlanet\", \"CryoSleep\", \"Destination\", \"VIP\", \"deck\", \"side\", \"Cabin\"], axis=1)\n",
    "\n",
    "score_accuracy_mean_list = np.zeros(9)\n",
    "score_accuracy_std_list = np.zeros(9)"
   ]
  },
  {
   "cell_type": "code",
   "execution_count": 49,
   "metadata": {},
   "outputs": [],
   "source": [
    "## Aplicando os Modelos:\n",
    "# Classificador Decision Tree:\n",
    "DTree_score = get_classifier_DTree_score(data_encoded_clean, data_y_train)\n",
    "score_accuracy_mean_list[0] = DTree_score.mean()\n",
    "score_accuracy_std_list[0] = DTree_score.std()\n",
    "x_labels.append(\"Decision Tree\")"
   ]
  },
  {
   "cell_type": "code",
   "execution_count": 50,
   "metadata": {},
   "outputs": [],
   "source": [
    "# Classificador Random Forest:\n",
    "RForest_score = get_classifier_RForest_score(data_encoded_clean, data_y_train)\n",
    "score_accuracy_mean_list[1] = RForest_score.mean()\n",
    "score_accuracy_std_list[1] = RForest_score.std()\n",
    "x_labels.append(\"Random Forest\")"
   ]
  },
  {
   "cell_type": "code",
   "execution_count": 51,
   "metadata": {},
   "outputs": [],
   "source": [
    "# Classificador Regressão Logística:\n",
    "Logistic_score = get_classifier_Logistic_score(data_encoded_clean, data_y_train)\n",
    "score_accuracy_mean_list[2] = Logistic_score.mean()\n",
    "score_accuracy_std_list[2] = Logistic_score.std()\n",
    "x_labels.append(\"Regressão Logística\")"
   ]
  },
  {
   "cell_type": "code",
   "execution_count": 52,
   "metadata": {},
   "outputs": [],
   "source": [
    "# Classificador SGD:\n",
    "SGD_score = get_classifier_SGD_score(data_encoded_clean, data_y_train)\n",
    "score_accuracy_mean_list[3] = SGD_score.mean()\n",
    "score_accuracy_std_list[3] = SGD_score.std()\n",
    "x_labels.append(\"SGD\")"
   ]
  },
  {
   "cell_type": "code",
   "execution_count": 53,
   "metadata": {},
   "outputs": [],
   "source": [
    "# Classificador KNN:\n",
    "KNN_score = get_classifier_KNN_score(data_encoded_clean, data_y_train)\n",
    "score_accuracy_mean_list[4] = KNN_score.mean()\n",
    "score_accuracy_std_list[4] = KNN_score.std()\n",
    "x_labels.append(\"KNN\")"
   ]
  },
  {
   "cell_type": "code",
   "execution_count": 54,
   "metadata": {},
   "outputs": [],
   "source": [
    "# Classificador MNB:\n",
    "MNB_score = get_classifier_MNB_score(data_encoded_clean, data_y_train)\n",
    "score_accuracy_mean_list[5] = MNB_score.mean()\n",
    "score_accuracy_std_list[5] = MNB_score.std()\n",
    "x_labels.append(\"MNB\")"
   ]
  },
  {
   "cell_type": "code",
   "execution_count": 55,
   "metadata": {},
   "outputs": [],
   "source": [
    "# Classificador XGB:\n",
    "XGB_score = get_classifier_xgboost_score(data_encoded_clean, data_y_train)\n",
    "score_accuracy_mean_list[6] = XGB_score.mean()\n",
    "score_accuracy_std_list[6] = XGB_score.std()\n",
    "x_labels.append(\"XGB\")"
   ]
  },
  {
   "cell_type": "code",
   "execution_count": 56,
   "metadata": {},
   "outputs": [],
   "source": [
    "# Classificador GBC:\n",
    "GBC_score = get_classifier_gbc_score(data_encoded_clean, data_y_train)\n",
    "score_accuracy_mean_list[7] = GBC_score.mean()\n",
    "score_accuracy_std_list[7] = GBC_score.std()\n",
    "x_labels.append(\"GBC\")"
   ]
  },
  {
   "cell_type": "code",
   "execution_count": 57,
   "metadata": {},
   "outputs": [],
   "source": [
    "# Classificador LGBM:\n",
    "LGBM_score = get_classifier_lgbm_score(data_encoded_clean, data_y_train)\n",
    "score_accuracy_mean_list[8] = LGBM_score.mean()\n",
    "score_accuracy_std_list[8] = LGBM_score.std()\n",
    "x_labels.append(\"LGBM\")"
   ]
  },
  {
   "cell_type": "markdown",
   "metadata": {},
   "source": [
    "Agora, com todos os scores calculados, vou plotar os resultados em um gráfico para análise:"
   ]
  },
  {
   "cell_type": "code",
   "execution_count": 58,
   "metadata": {},
   "outputs": [
    {
     "data": {
      "image/png": "[encoded data removed]",
      "text/plain": [
       "<Figure size 864x432 with 1 Axes>"
      ]
     },
     "metadata": {
      "needs_background": "light"
     },
     "output_type": "display_data"
    }
   ],
   "source": [
    "n_bars = len(score_accuracy_mean_list)\n",
    "xval = np.arange(n_bars)\n",
    "\n",
    "colors = [\"r\", \"g\", \"b\", \"orange\", \"lime\", \"magenta\", \"skyblue\", \"crimson\", \"yellow\"]\n",
    "\n",
    "# Plotando os Resultados\n",
    "plt.figure(figsize=(12, 6))\n",
    "ax1 = plt.subplot(121)\n",
    "for j in xval:\n",
    "    ax1.barh(\n",
    "        j,\n",
    "        score_accuracy_mean_list[j],\n",
    "        xerr=score_accuracy_std_list[j],\n",
    "        color=colors[j],\n",
    "        alpha=0.6,\n",
    "        align=\"center\",\n",
    "    )\n",
    "\n",
    "ax1.set_title(\"Score dos Classificadores [maior melhor]\")\n",
    "ax1.set_xlim(left=np.min(score_accuracy_mean_list) * 0.9, right=np.max(score_accuracy_mean_list) * 1.1)\n",
    "ax1.set_yticks(xval)\n",
    "ax1.set_xlabel(\"Accuracy\")\n",
    "ax1.invert_yaxis()\n",
    "ax1.set_yticklabels(x_labels)\n",
    "\n",
    "\n",
    "plt.show()"
   ]
  },
  {
   "cell_type": "code",
   "execution_count": 59,
   "metadata": {},
   "outputs": [
    {
     "data": {
      "image/png": "[encoded data removed]",
      "text/plain": [
       "<Figure size 720x576 with 1 Axes>"
      ]
     },
     "metadata": {
      "needs_background": "light"
     },
     "output_type": "display_data"
    }
   ],
   "source": [
    "pd.DataFrame({\n",
    "    'Random Forest': RForest_score,\n",
    "    'Regressão Logística': Logistic_score,\n",
    "    'XGB': XGB_score,\n",
    "    'GBC': GBC_score,\n",
    "    'LGBM': LGBM_score,\n",
    "}).plot.box(\n",
    "    xlabel='',\n",
    "    ylabel=r'Scores',\n",
    "    figsize=(10, 8),\n",
    ");"
   ]
  },
  {
   "cell_type": "markdown",
   "metadata": {},
   "source": [
    "# Ajuster de Hiperparâmetros"
   ]
  },
  {
   "cell_type": "code",
   "execution_count": 60,
   "metadata": {},
   "outputs": [],
   "source": [
    "from sklearn.model_selection import GridSearchCV"
   ]
  },
  {
   "cell_type": "markdown",
   "metadata": {},
   "source": [
    "#### LGBM"
   ]
  },
  {
   "cell_type": "code",
   "execution_count": 77,
   "metadata": {},
   "outputs": [
    {
     "data": {
      "text/plain": [
       "GridSearchCV(cv=4,\n",
       "             estimator=LGBMClassifier(colsample_bytree=0.85, learning_rate=0.01,\n",
       "                                      min_child_weight=0.8, n_estimators=600,\n",
       "                                      random_state=42, subsample=0.7,\n",
       "                                      subsample_freq=1),\n",
       "             n_jobs=-1,\n",
       "             param_grid={'boosting_type': ['gbdt', 'dart'],\n",
       "                         'colsample_bytree': [0.64, 0.65, 0.66],\n",
       "                         'learning_rate': [0.005, 0.01], 'max_bin': [255, 510],\n",
       "                         'n_estimators': [8, 16, 24],\n",
       "                         'num_leaves': [6, 8, 12, 16], 'objective': ['binary'],\n",
       "                         'random_state': [500], 'reg_alpha': [1, 1.2],\n",
       "                         'reg_lambda': [1, 1.2, 1.4],\n",
       "                         'subsample': [0.7, 0.75]})"
      ]
     },
     "execution_count": 77,
     "metadata": {},
     "output_type": "execute_result"
    }
   ],
   "source": [
    "LGBM = LGBMClassifier(min_child_weight=0.8, \n",
    "                                 random_state=RAND_SEED, \n",
    "                                 n_estimators=600, \n",
    "                                 learning_rate = 0.01, \n",
    "                                 subsample=0.7, \n",
    "                                 subsample_freq=1, \n",
    "                                 colsample_bytree = 0.85)\n",
    "\n",
    "params = {\n",
    "    'learning_rate': [0.005, 0.01],\n",
    "    'n_estimators': [8,16,24],\n",
    "    'num_leaves': [6,8,12,16], # large num_leaves helps improve accuracy but might lead to over-fitting\n",
    "    'boosting_type' : ['gbdt', 'dart'], # for better accuracy -> try dart\n",
    "    'objective' : ['binary'],\n",
    "    'max_bin':[255, 510], # large max_bin helps improve accuracy but might slow down training progress\n",
    "    'random_state' : [500],\n",
    "    'colsample_bytree' : [0.64, 0.65, 0.66],\n",
    "    'subsample' : [0.7,0.75],\n",
    "    'reg_alpha' : [1,1.2],\n",
    "    'reg_lambda' : [1,1.2,1.4],\n",
    "    }\n",
    "\n",
    "grid_lgbm = GridSearchCV(LGBM, params, cv=N_SPLITS, n_jobs=-1)\n",
    "\n",
    "grid_lgbm.fit(data_encoded_clean, data_y_train)"
   ]
  },
  {
   "cell_type": "code",
   "execution_count": 78,
   "metadata": {},
   "outputs": [
    {
     "name": "stdout",
     "output_type": "stream",
     "text": [
      "boosting_type: gbdt\n",
      "colsample_bytree: 0.64\n",
      "learning_rate: 0.01\n",
      "max_bin: 255\n",
      "n_estimators: 24\n",
      "num_leaves: 16\n",
      "objective: binary\n",
      "random_state: 500\n",
      "reg_alpha: 1\n",
      "reg_lambda: 1\n",
      "subsample: 0.7\n"
     ]
    }
   ],
   "source": [
    "for key in grid_lgbm.best_params_.keys():\n",
    "    print(f\"{key}: {grid_lgbm.best_params_[key]}\")"
   ]
  },
  {
   "cell_type": "code",
   "execution_count": 79,
   "metadata": {},
   "outputs": [
    {
     "data": {
      "text/plain": [
       "GridSearchCV(cv=4,\n",
       "             estimator=LGBMClassifier(colsample_bytree=0.85, learning_rate=0.01,\n",
       "                                      min_child_weight=0.8, n_estimators=600,\n",
       "                                      random_state=42, subsample=0.7,\n",
       "                                      subsample_freq=1),\n",
       "             n_jobs=-1,\n",
       "             param_grid={'boosting_type': ['gbdt', 'dart'],\n",
       "                         'colsample_bytree': [0.64, 0.65, 0.66],\n",
       "                         'learning_rate': [0.005, 0.01], 'max_bin': [255, 510],\n",
       "                         'n_estimators': [8, 16, 24],\n",
       "                         'num_leaves': [6, 8, 12, 16], 'objective': ['binary'],\n",
       "                         'random_state': [500], 'reg_alpha': [1, 1.2],\n",
       "                         'reg_lambda': [1, 1.2, 1.4],\n",
       "                         'subsample': [0.7, 0.75]})"
      ]
     },
     "execution_count": 79,
     "metadata": {},
     "output_type": "execute_result"
    }
   ],
   "source": [
    "params_v2 = {\n",
    "    'learning_rate': [0.01, 0.05, 0.1],\n",
    "    'n_estimators': [24,32,40],\n",
    "    'num_leaves': [16,20,24,28], # large num_leaves helps improve accuracy but might lead to over-fitting\n",
    "    'boosting_type' : ['gbdt', 'dart'], # for better accuracy -> try dart\n",
    "    'objective' : ['binary'],\n",
    "    'max_bin':[255, 510], # large max_bin helps improve accuracy but might slow down training progress\n",
    "    'random_state' : [500],\n",
    "    'colsample_bytree' : [0.62,0.63,0.64],\n",
    "    'subsample' : [0.65,0.7],\n",
    "    'reg_alpha' : [0.8,1],\n",
    "    'reg_lambda' : [0.6,0.8,1],\n",
    "    }\n",
    "\n",
    "grid_lgbm_v2 = GridSearchCV(LGBM, params, cv=N_SPLITS, n_jobs=-1)\n",
    "\n",
    "grid_lgbm_v2.fit(data_encoded_clean, data_y_train)"
   ]
  },
  {
   "cell_type": "code",
   "execution_count": 80,
   "metadata": {},
   "outputs": [
    {
     "name": "stdout",
     "output_type": "stream",
     "text": [
      "boosting_type: gbdt\n",
      "colsample_bytree: 0.64\n",
      "learning_rate: 0.01\n",
      "max_bin: 255\n",
      "n_estimators: 24\n",
      "num_leaves: 16\n",
      "objective: binary\n",
      "random_state: 500\n",
      "reg_alpha: 1\n",
      "reg_lambda: 1\n",
      "subsample: 0.7\n"
     ]
    }
   ],
   "source": [
    "for key in grid_lgbm_v2.best_params_.keys():\n",
    "    print(f\"{key}: {grid_lgbm_v2.best_params_[key]}\")"
   ]
  },
  {
   "cell_type": "markdown",
   "metadata": {},
   "source": [
    "#### Logistic Regression"
   ]
  },
  {
   "cell_type": "code",
   "execution_count": 63,
   "metadata": {},
   "outputs": [
    {
     "data": {
      "text/plain": [
       "GridSearchCV(cv=4,\n",
       "             estimator=LogisticRegression(C=1000, max_iter=1000, penalty='l1',\n",
       "                                          random_state=42, solver='liblinear'),\n",
       "             n_jobs=-1, param_grid=[{'C': [0.001, 0.01, 0.1, 1, 10, 100]}])"
      ]
     },
     "execution_count": 63,
     "metadata": {},
     "output_type": "execute_result"
    }
   ],
   "source": [
    "LogisticRegression_score = LogisticRegression(\n",
    "        penalty='l1',\n",
    "        C=1000,\n",
    "        solver='liblinear',\n",
    "        multi_class='auto',\n",
    "        max_iter=1000,\n",
    "        random_state=RAND_SEED\n",
    "    )\n",
    "\n",
    "params = [{'C':[0.001, 0.01, 0.1, 1, 10, 100]}]\n",
    "\n",
    "grid_lr = GridSearchCV(LogisticRegression_score, params, cv=N_SPLITS, n_jobs=-1)\n",
    "\n",
    "grid_lr.fit(data_encoded_clean, data_y_train)"
   ]
  },
  {
   "cell_type": "code",
   "execution_count": 64,
   "metadata": {},
   "outputs": [
    {
     "name": "stdout",
     "output_type": "stream",
     "text": [
      "C: 0.01\n"
     ]
    }
   ],
   "source": [
    "for key in grid_lr.best_params_.keys():\n",
    "    print(f\"{key}: {grid_lr.best_params_[key]}\")"
   ]
  },
  {
   "cell_type": "markdown",
   "metadata": {},
   "source": [
    "# Curva ROC"
   ]
  },
  {
   "cell_type": "code",
   "execution_count": 65,
   "metadata": {},
   "outputs": [],
   "source": [
    "from sklearn.model_selection import cross_val_predict"
   ]
  },
  {
   "cell_type": "markdown",
   "metadata": {},
   "source": [
    "#### LGBM"
   ]
  },
  {
   "cell_type": "code",
   "execution_count": 81,
   "metadata": {},
   "outputs": [],
   "source": [
    "y_scores_lgbm = cross_val_predict(\n",
    "    grid_lgbm_v2,\n",
    "    data_encoded_clean,\n",
    "    data_y_train,\n",
    "    cv=3,\n",
    "    method=\"predict_proba\",\n",
    "    n_jobs=-1,\n",
    ")"
   ]
  },
  {
   "cell_type": "markdown",
   "metadata": {},
   "source": [
    "#### Logistic Regression"
   ]
  },
  {
   "cell_type": "code",
   "execution_count": 82,
   "metadata": {},
   "outputs": [],
   "source": [
    "y_scores_lr = cross_val_predict(\n",
    "    grid_lr,\n",
    "    data_encoded_clean,\n",
    "    data_y_train,\n",
    "    cv=3,\n",
    "    method=\"decision_function\",\n",
    "    n_jobs=-1,\n",
    ")"
   ]
  },
  {
   "cell_type": "code",
   "execution_count": 83,
   "metadata": {},
   "outputs": [],
   "source": [
    "from sklearn.metrics import roc_curve"
   ]
  },
  {
   "cell_type": "code",
   "execution_count": 84,
   "metadata": {},
   "outputs": [],
   "source": [
    "data_y_train_values =  data_y_train.astype(int)"
   ]
  },
  {
   "cell_type": "code",
   "execution_count": 85,
   "metadata": {},
   "outputs": [
    {
     "data": {
      "image/png": "[encoded data removed]",
      "text/plain": [
       "<Figure size 576x432 with 1 Axes>"
      ]
     },
     "metadata": {
      "needs_background": "light"
     },
     "output_type": "display_data"
    },
    {
     "data": {
      "image/png": "[encoded data removed]",
      "text/plain": [
       "<Figure size 576x432 with 1 Axes>"
      ]
     },
     "metadata": {
      "needs_background": "light"
     },
     "output_type": "display_data"
    }
   ],
   "source": [
    "false_positive_rate_lgbm, true_positive_rate_lgbm, threshold_lgbm = roc_curve(data_y_train_values, y_scores_lgbm[:,1])\n",
    "false_positive_rate_lr, true_positive_rate_lr, threshold_lr = roc_curve(data_y_train_values, y_scores_lr)\n",
    "\n",
    "plt.figure(figsize=(8, 6))\n",
    "plt.plot(false_positive_rate_lr, true_positive_rate_lr, linewidth=2)\n",
    "plt.plot([0, 1], [0, 1], 'k--')\n",
    "plt.axis([0, 1, 0, 1])\n",
    "plt.title(\"ROC Curve Logistic Regression\")\n",
    "plt.xlabel('False Positive Rate', fontsize=16)\n",
    "plt.ylabel('True Positive Rate', fontsize=16)\n",
    "plt.show()\n",
    "\n",
    "\n",
    "plt.figure(figsize=(8, 6))\n",
    "plt.plot(false_positive_rate_lgbm, true_positive_rate_lgbm, linewidth=2)\n",
    "plt.plot([0, 1], [0, 1], 'k--')\n",
    "plt.axis([0, 1, 0, 1])\n",
    "plt.title(\"ROC Curve LGBM\")\n",
    "plt.xlabel('False Positive Rate', fontsize=16)\n",
    "plt.ylabel('True Positive Rate', fontsize=16)\n",
    "plt.show()"
   ]
  },
  {
   "cell_type": "markdown",
   "metadata": {},
   "source": [
    "# Heat Map"
   ]
  },
  {
   "cell_type": "code",
   "execution_count": 86,
   "metadata": {},
   "outputs": [],
   "source": [
    "from sklearn.metrics import accuracy_score, classification_report, confusion_matrix"
   ]
  },
  {
   "cell_type": "code",
   "execution_count": 87,
   "metadata": {},
   "outputs": [],
   "source": [
    "y_lgbm_predict = cross_val_predict(\n",
    "    grid_lgbm_v2,\n",
    "    data_encoded_clean,\n",
    "    data_y_train_values,\n",
    "    cv=3,\n",
    "    n_jobs=-1\n",
    ")\n",
    "\n",
    "y_lr_predict = cross_val_predict(\n",
    "    grid_lr,\n",
    "    data_encoded_clean,\n",
    "    data_y_train_values,\n",
    "    cv=3,\n",
    "    n_jobs=-1\n",
    ")"
   ]
  },
  {
   "cell_type": "markdown",
   "metadata": {},
   "source": [
    "#### LGBM"
   ]
  },
  {
   "cell_type": "code",
   "execution_count": 88,
   "metadata": {},
   "outputs": [
    {
     "data": {
      "image/png": "[encoded data removed]",
      "text/plain": [
       "<Figure size 432x288 with 2 Axes>"
      ]
     },
     "metadata": {
      "needs_background": "light"
     },
     "output_type": "display_data"
    }
   ],
   "source": [
    "cf_matrix_lgbm = confusion_matrix(data_y_train_values, y_lgbm_predict)\n",
    "sns.heatmap(cf_matrix_lgbm/np.sum(cf_matrix_lgbm), annot=True, \n",
    "            fmt='.2%', cmap='Blues');"
   ]
  },
  {
   "cell_type": "markdown",
   "metadata": {},
   "source": [
    "#### Logistic Regression"
   ]
  },
  {
   "cell_type": "code",
   "execution_count": 89,
   "metadata": {},
   "outputs": [
    {
     "data": {
      "image/png": "[encoded data removed]",
      "text/plain": [
       "<Figure size 432x288 with 2 Axes>"
      ]
     },
     "metadata": {
      "needs_background": "light"
     },
     "output_type": "display_data"
    }
   ],
   "source": [
    "cf_matrix_lr = confusion_matrix(data_y_train_values, y_lr_predict)\n",
    "sns.heatmap(cf_matrix_lr/np.sum(cf_matrix_lr), annot=True, \n",
    "            fmt='.2%', cmap='Greens');"
   ]
  },
  {
   "cell_type": "markdown",
   "metadata": {},
   "source": [
    "# PyCaret"
   ]
  },
  {
   "cell_type": "markdown",
   "metadata": {},
   "source": [
    "Utilizaremos agora a biblioteca PyCaret. Ela é incrível e você já vai entender o motivo.\n",
    "\n",
    "Primeiramente, iremos importar `from pycaret.classification import *`. Com isso, todas as funções abaixo, como o setup, já estão prontas para fazer um `Modelo de Classificação`.\n",
    "\n",
    "- **data**: Passamos nosso Dataset já pronto e limpo.\n",
    "- **target**: Como o nome já diz, é a coluna que será predita.\n",
    "- **train_size**: O tamanho do Dataset que será utilizado para treino.\n",
    "- **session_id**: Assim como no Notebook para criar uma Amostra, temos um \"padrão de aleatoriedade\" setado.\n",
    "\n",
    "Esta função irá preparar nossos dados para montar o modelo.\n",
    "\n",
    "*Execute a célula abaixo, dê `ENTER` no primeiro input, e no segundo, utilize `0.3`.*"
   ]
  },
  {
   "cell_type": "code",
   "execution_count": 76,
   "metadata": {},
   "outputs": [
    {
     "ename": "ModuleNotFoundError",
     "evalue": "No module named 'pycaret'",
     "output_type": "error",
     "traceback": [
      "\u001b[1;31m---------------------------------------------------------------------------\u001b[0m",
      "\u001b[1;31mModuleNotFoundError\u001b[0m                       Traceback (most recent call last)",
      "Input \u001b[1;32mIn [76]\u001b[0m, in \u001b[0;36m<cell line: 1>\u001b[1;34m()\u001b[0m\n\u001b[1;32m----> 1\u001b[0m \u001b[38;5;28;01mfrom\u001b[39;00m \u001b[38;5;21;01mpycaret\u001b[39;00m\u001b[38;5;21;01m.\u001b[39;00m\u001b[38;5;21;01mclassification\u001b[39;00m \u001b[38;5;28;01mimport\u001b[39;00m \u001b[38;5;241m*\u001b[39m\n",
      "\u001b[1;31mModuleNotFoundError\u001b[0m: No module named 'pycaret'"
     ]
    }
   ],
   "source": [
    "from pycaret.classification import *"
   ]
  },
  {
   "cell_type": "markdown",
   "metadata": {},
   "source": [
    "- Unindo o dataset de treino e teste, para que o PyCaret possa fazer a separação dos dados."
   ]
  },
  {
   "cell_type": "code",
   "execution_count": null,
   "metadata": {},
   "outputs": [],
   "source": [
    "data_y_train_pycaret = data_y_train.reset_index(drop=True)\n",
    "data_encoded_clean_pycaret = data_encoded_clean.reset_index(drop=True)\n",
    "data_encoded_clean_pycaret = pd.concat([data_y_train, data_encoded_clean], axis=1)\n",
    "data_encoded_clean_pycaret.info()"
   ]
  },
  {
   "cell_type": "markdown",
   "metadata": {},
   "source": [
    "- Setando o modelo de classificação."
   ]
  },
  {
   "cell_type": "code",
   "execution_count": null,
   "metadata": {},
   "outputs": [],
   "source": [
    "clf = setup(data_encoded_clean_pycaret, target = 'Transported', session_id = RAND_SEED, train_size = 0.7)"
   ]
  },
  {
   "cell_type": "markdown",
   "metadata": {},
   "source": [
    "Na próxima célula, o PyCaret irá testar diversos modelos em nosso Dataset e nos dará os melhores. Mais a frente iremos ver como isso é feito.\n",
    "\n",
    "A declaração `fold = 10` significa que as métricas estão sendo baseadas em dez camadas de `cross-validation`. \n",
    "\n",
    "![](https://ethen8181.github.io/machine-learning/model_selection/img/kfolds.png)\n",
    "\n",
    "*Fonte: https://ethen8181.github.io/machine-learning/model_selection/model_selection.html*\n",
    "\n",
    "O objetivo da validação cruzada é testar a capacidade do modelo de prever novos dados que não foram usados para estimá-los, a fim de sinalizar problemas como o excesso de adequação ou viés de seleção e dar uma visão de como o modelo se generalizará para um conjunto de dados independente (ou seja, um conjunto de dados desconhecido, por exemplo, a partir de um problema real). \n",
    "\n",
    "*Referência: https://en.wikipedia.org/wiki/Cross-validation_(statistics)*\n",
    "\n",
    "*Execute a célula abaixo e aguarde o processo ser finalizado.*"
   ]
  },
  {
   "cell_type": "code",
   "execution_count": null,
   "metadata": {},
   "outputs": [],
   "source": [
    "best_model = compare_models(fold = 10)"
   ]
  },
  {
   "cell_type": "markdown",
   "metadata": {},
   "source": [
    "- Abaixo, temos o melhor modelo de classificação, com a melhor acurácia e seus respectivos parâmetros."
   ]
  },
  {
   "cell_type": "code",
   "execution_count": null,
   "metadata": {},
   "outputs": [],
   "source": [
    "print(best_model)"
   ]
  },
  {
   "cell_type": "markdown",
   "metadata": {},
   "source": [
    "- Analisando o modelo"
   ]
  },
  {
   "cell_type": "markdown",
   "metadata": {},
   "source": [
    "- A função abaixo facilita a visão de plots para análise, dando as opções que precisamos, e iremos separar nas células abaixo para maior facilidade de compreensão."
   ]
  },
  {
   "cell_type": "code",
   "execution_count": null,
   "metadata": {},
   "outputs": [],
   "source": [
    "evaluate_model(best_model)"
   ]
  },
  {
   "cell_type": "code",
   "execution_count": null,
   "metadata": {},
   "outputs": [],
   "source": [
    "plot_model(best_model, plot = 'auc')"
   ]
  },
  {
   "cell_type": "code",
   "execution_count": null,
   "metadata": {},
   "outputs": [],
   "source": [
    "plot_model(best_model, plot = 'confusion_matrix')"
   ]
  },
  {
   "cell_type": "code",
   "execution_count": null,
   "metadata": {},
   "outputs": [],
   "source": []
  }
 ],
 "metadata": {
  "colab": {
   "collapsed_sections": [],
   "provenance": []
  },
  "kernelspec": {
   "display_name": "Python 3 (ipykernel)",
   "language": "python",
   "name": "python3"
  },
  "language_info": {
   "codemirror_mode": {
    "name": "ipython",
    "version": 3
   },
   "file_extension": ".py",
   "mimetype": "text/x-python",
   "name": "python",
   "nbconvert_exporter": "python",
   "pygments_lexer": "ipython3",
   "version": "3.9.12"
  },
  "vscode": {
   "interpreter": {
    "hash": "b42dfadf076e148891078205d4479ab19bb54d535f5c60e5f4c005095c5c1bc6"
   }
  }
 },
 "nbformat": 4,
 "nbformat_minor": 1
}
